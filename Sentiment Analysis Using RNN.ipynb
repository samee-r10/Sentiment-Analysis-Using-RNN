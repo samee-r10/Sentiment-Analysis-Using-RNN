{
  "cells": [
    {
      "cell_type": "markdown",
      "metadata": {
        "id": "mSj47HznJVJg"
      },
      "source": [
        "### Sentiment Analysis Using RNN"
      ],
      "id": "mSj47HznJVJg"
    },
    {
      "cell_type": "code",
      "source": [
        "from google.colab import drive\n",
        "drive.mount('/content/drive')"
      ],
      "metadata": {
        "colab": {
          "base_uri": "https://localhost:8080/"
        },
        "id": "cv58QXAyJgk1",
        "outputId": "69602f52-57d4-4687-f7a4-4260759b66c0"
      },
      "id": "cv58QXAyJgk1",
      "execution_count": 1,
      "outputs": [
        {
          "output_type": "stream",
          "name": "stdout",
          "text": [
            "Mounted at /content/drive\n"
          ]
        }
      ]
    },
    {
      "cell_type": "markdown",
      "metadata": {
        "id": "IqkwoGZ8JVJn"
      },
      "source": [
        "Steps:\n",
        "\n",
        "1. Importing (or installing) tensorflow and other packages on your system\n",
        "2. Loading the data from disk\n",
        "3. Data Preprocessing and visualization\n",
        "4. Creating the training and testing splits\n",
        "5. Defining the RNN model architecture\n",
        "6. Compiling the RNN model\n",
        "7. Training the model on the training data\n",
        "8. Evaluating your model on the validation data\n",
        "9. Making predictions for unseen data"
      ],
      "id": "IqkwoGZ8JVJn"
    },
    {
      "cell_type": "markdown",
      "metadata": {
        "id": "iMj_lCLhJVJp"
      },
      "source": [
        "### 1. Importing packages on your system"
      ],
      "id": "iMj_lCLhJVJp"
    },
    {
      "cell_type": "code",
      "execution_count": 2,
      "metadata": {
        "id": "dOQjpnAaJVJp"
      },
      "outputs": [],
      "source": [
        "# import libraries\n",
        "import pandas as pd\n",
        "import numpy as np\n",
        "import re\n",
        "import matplotlib.pyplot as plt\n",
        "from sklearn.model_selection import train_test_split\n",
        "from sklearn.metrics import confusion_matrix , accuracy_score, classification_report\n",
        "from tensorflow import keras\n",
        "from tensorflow.keras.preprocessing.text import Tokenizer\n",
        "from tensorflow.keras.preprocessing.sequence import pad_sequences\n",
        "from tensorflow.keras.layers import Dense,LSTM , GlobalMaxPooling1D\n",
        "from tensorflow.keras.models import Model\n",
        "from tensorflow.keras.layers import Flatten\n",
        "from tensorflow.keras.layers import  Embedding\n",
        "from tensorflow.keras.models import Sequential\n",
        "import tensorflow as tf\n",
        "import itertools\n",
        "\n",
        "import seaborn as sns\n",
        "sns.set()"
      ],
      "id": "dOQjpnAaJVJp"
    },
    {
      "cell_type": "code",
      "execution_count": 3,
      "metadata": {
        "id": "3miokKvLJVJr"
      },
      "outputs": [],
      "source": [
        "import warnings\n",
        "warnings.filterwarnings('ignore')"
      ],
      "id": "3miokKvLJVJr"
    },
    {
      "cell_type": "code",
      "execution_count": 4,
      "metadata": {
        "colab": {
          "base_uri": "https://localhost:8080/"
        },
        "id": "ZAflnqbaJVJs",
        "outputId": "a7a0b410-def8-4e2c-c720-9fa38b033818"
      },
      "outputs": [
        {
          "output_type": "stream",
          "name": "stdout",
          "text": [
            "Tensorflow Version: 2.15.0\n"
          ]
        }
      ],
      "source": [
        "print(\"Tensorflow Version: {}\".format(tf.__version__))"
      ],
      "id": "ZAflnqbaJVJs"
    },
    {
      "cell_type": "markdown",
      "metadata": {
        "id": "yjKM6YzXJVJu"
      },
      "source": [
        "### 2. Load data from disk"
      ],
      "id": "yjKM6YzXJVJu"
    },
    {
      "cell_type": "code",
      "execution_count": 5,
      "metadata": {
        "id": "SFiVxn8cJVJu"
      },
      "outputs": [],
      "source": [
        "# read data\n",
        "df_train = pd.read_csv(\"/content/drive/MyDrive/Deep Learning Exam/RNN/datasets/tweets_train.csv\")\n",
        "df_test =  pd.read_csv(\"/content/drive/MyDrive/Deep Learning Exam/RNN/datasets/tweets_test.csv\")"
      ],
      "id": "SFiVxn8cJVJu"
    },
    {
      "cell_type": "code",
      "execution_count": 6,
      "metadata": {
        "colab": {
          "base_uri": "https://localhost:8080/",
          "height": 451
        },
        "id": "421NV0VIJVJv",
        "outputId": "df78a1a3-0dc3-42e6-d429-5963061a581a"
      },
      "outputs": [
        {
          "output_type": "execute_result",
          "data": {
            "text/plain": [
              "        user_name               user_location  \\\n",
              "0          Romy 👑            Bolton - England   \n",
              "1  TLynn Peterson  Black Canyon City, Arizona   \n",
              "2  Rutger Kosters                 Netherlands   \n",
              "3      IDFWU🗯🇿🇼🇿🇦   East London, South Africa   \n",
              "4         Treebel                         NaN   \n",
              "\n",
              "                                    user_description         user_created  \\\n",
              "0     Tables turn, bridges burn, you live and learn.  2009-06-15 09:00:39   \n",
              "1  Acquired disability ♿ after an accident. Livin...  2013-05-29 00:17:46   \n",
              "2  Cloud Solution Architect @NetApp | VCDX #209 |...  2014-10-07 09:34:10   \n",
              "3  YOU HAVE OPTIONS, YOU CAN’T JUST TAKE WHAT LIF...  2012-08-22 11:09:06   \n",
              "4                                                NaN  2010-09-25 07:25:31   \n",
              "\n",
              "   user_followers  user_friends  user_favourites  user_verified  \\\n",
              "0             525           896             3854          False   \n",
              "1            5045          5374            48152          False   \n",
              "2             574           251             1070          False   \n",
              "3             706           618             1320          False   \n",
              "4               9            13               55          False   \n",
              "\n",
              "                  date              hashtags               source  is_retweet  \\\n",
              "0  2020-09-19 15:19:32  ['TheSocialDilemma']  Twitter for Android       False   \n",
              "1  2020-09-13 00:31:46  ['TheSocialDilemma']  Twitter for Android       False   \n",
              "2  2020-09-09 21:10:33  ['TheSocialDilemma']  Twitter for Android       False   \n",
              "3  2020-09-11 04:33:08                   NaN  Twitter for Android       False   \n",
              "4  2020-09-17 16:27:38  ['thesocialdilemma']   Twitter for iPhone       False   \n",
              "\n",
              "                                          clean_text Sentiment  \n",
              "0  TheSocialDilemma is an eye opener isn t it ple...   Neutral  \n",
              "1  TheSocialDilemma If we don t agree on what is ...  Positive  \n",
              "2  Watching TheSocialDilemma scary to see social ...  Negative  \n",
              "3  You check your social media before you pee in ...  Positive  \n",
              "4  watch thesocialdilemma and see what s actually...  Negative  "
            ],
            "text/html": [
              "\n",
              "  <div id=\"df-0c6ed29e-52b1-4681-8e21-50458357af2b\" class=\"colab-df-container\">\n",
              "    <div>\n",
              "<style scoped>\n",
              "    .dataframe tbody tr th:only-of-type {\n",
              "        vertical-align: middle;\n",
              "    }\n",
              "\n",
              "    .dataframe tbody tr th {\n",
              "        vertical-align: top;\n",
              "    }\n",
              "\n",
              "    .dataframe thead th {\n",
              "        text-align: right;\n",
              "    }\n",
              "</style>\n",
              "<table border=\"1\" class=\"dataframe\">\n",
              "  <thead>\n",
              "    <tr style=\"text-align: right;\">\n",
              "      <th></th>\n",
              "      <th>user_name</th>\n",
              "      <th>user_location</th>\n",
              "      <th>user_description</th>\n",
              "      <th>user_created</th>\n",
              "      <th>user_followers</th>\n",
              "      <th>user_friends</th>\n",
              "      <th>user_favourites</th>\n",
              "      <th>user_verified</th>\n",
              "      <th>date</th>\n",
              "      <th>hashtags</th>\n",
              "      <th>source</th>\n",
              "      <th>is_retweet</th>\n",
              "      <th>clean_text</th>\n",
              "      <th>Sentiment</th>\n",
              "    </tr>\n",
              "  </thead>\n",
              "  <tbody>\n",
              "    <tr>\n",
              "      <th>0</th>\n",
              "      <td>Romy 👑</td>\n",
              "      <td>Bolton - England</td>\n",
              "      <td>Tables turn, bridges burn, you live and learn.</td>\n",
              "      <td>2009-06-15 09:00:39</td>\n",
              "      <td>525</td>\n",
              "      <td>896</td>\n",
              "      <td>3854</td>\n",
              "      <td>False</td>\n",
              "      <td>2020-09-19 15:19:32</td>\n",
              "      <td>['TheSocialDilemma']</td>\n",
              "      <td>Twitter for Android</td>\n",
              "      <td>False</td>\n",
              "      <td>TheSocialDilemma is an eye opener isn t it ple...</td>\n",
              "      <td>Neutral</td>\n",
              "    </tr>\n",
              "    <tr>\n",
              "      <th>1</th>\n",
              "      <td>TLynn Peterson</td>\n",
              "      <td>Black Canyon City, Arizona</td>\n",
              "      <td>Acquired disability ♿ after an accident. Livin...</td>\n",
              "      <td>2013-05-29 00:17:46</td>\n",
              "      <td>5045</td>\n",
              "      <td>5374</td>\n",
              "      <td>48152</td>\n",
              "      <td>False</td>\n",
              "      <td>2020-09-13 00:31:46</td>\n",
              "      <td>['TheSocialDilemma']</td>\n",
              "      <td>Twitter for Android</td>\n",
              "      <td>False</td>\n",
              "      <td>TheSocialDilemma If we don t agree on what is ...</td>\n",
              "      <td>Positive</td>\n",
              "    </tr>\n",
              "    <tr>\n",
              "      <th>2</th>\n",
              "      <td>Rutger Kosters</td>\n",
              "      <td>Netherlands</td>\n",
              "      <td>Cloud Solution Architect @NetApp | VCDX #209 |...</td>\n",
              "      <td>2014-10-07 09:34:10</td>\n",
              "      <td>574</td>\n",
              "      <td>251</td>\n",
              "      <td>1070</td>\n",
              "      <td>False</td>\n",
              "      <td>2020-09-09 21:10:33</td>\n",
              "      <td>['TheSocialDilemma']</td>\n",
              "      <td>Twitter for Android</td>\n",
              "      <td>False</td>\n",
              "      <td>Watching TheSocialDilemma scary to see social ...</td>\n",
              "      <td>Negative</td>\n",
              "    </tr>\n",
              "    <tr>\n",
              "      <th>3</th>\n",
              "      <td>IDFWU🗯🇿🇼🇿🇦</td>\n",
              "      <td>East London, South Africa</td>\n",
              "      <td>YOU HAVE OPTIONS, YOU CAN’T JUST TAKE WHAT LIF...</td>\n",
              "      <td>2012-08-22 11:09:06</td>\n",
              "      <td>706</td>\n",
              "      <td>618</td>\n",
              "      <td>1320</td>\n",
              "      <td>False</td>\n",
              "      <td>2020-09-11 04:33:08</td>\n",
              "      <td>NaN</td>\n",
              "      <td>Twitter for Android</td>\n",
              "      <td>False</td>\n",
              "      <td>You check your social media before you pee in ...</td>\n",
              "      <td>Positive</td>\n",
              "    </tr>\n",
              "    <tr>\n",
              "      <th>4</th>\n",
              "      <td>Treebel</td>\n",
              "      <td>NaN</td>\n",
              "      <td>NaN</td>\n",
              "      <td>2010-09-25 07:25:31</td>\n",
              "      <td>9</td>\n",
              "      <td>13</td>\n",
              "      <td>55</td>\n",
              "      <td>False</td>\n",
              "      <td>2020-09-17 16:27:38</td>\n",
              "      <td>['thesocialdilemma']</td>\n",
              "      <td>Twitter for iPhone</td>\n",
              "      <td>False</td>\n",
              "      <td>watch thesocialdilemma and see what s actually...</td>\n",
              "      <td>Negative</td>\n",
              "    </tr>\n",
              "  </tbody>\n",
              "</table>\n",
              "</div>\n",
              "    <div class=\"colab-df-buttons\">\n",
              "\n",
              "  <div class=\"colab-df-container\">\n",
              "    <button class=\"colab-df-convert\" onclick=\"convertToInteractive('df-0c6ed29e-52b1-4681-8e21-50458357af2b')\"\n",
              "            title=\"Convert this dataframe to an interactive table.\"\n",
              "            style=\"display:none;\">\n",
              "\n",
              "  <svg xmlns=\"http://www.w3.org/2000/svg\" height=\"24px\" viewBox=\"0 -960 960 960\">\n",
              "    <path d=\"M120-120v-720h720v720H120Zm60-500h600v-160H180v160Zm220 220h160v-160H400v160Zm0 220h160v-160H400v160ZM180-400h160v-160H180v160Zm440 0h160v-160H620v160ZM180-180h160v-160H180v160Zm440 0h160v-160H620v160Z\"/>\n",
              "  </svg>\n",
              "    </button>\n",
              "\n",
              "  <style>\n",
              "    .colab-df-container {\n",
              "      display:flex;\n",
              "      gap: 12px;\n",
              "    }\n",
              "\n",
              "    .colab-df-convert {\n",
              "      background-color: #E8F0FE;\n",
              "      border: none;\n",
              "      border-radius: 50%;\n",
              "      cursor: pointer;\n",
              "      display: none;\n",
              "      fill: #1967D2;\n",
              "      height: 32px;\n",
              "      padding: 0 0 0 0;\n",
              "      width: 32px;\n",
              "    }\n",
              "\n",
              "    .colab-df-convert:hover {\n",
              "      background-color: #E2EBFA;\n",
              "      box-shadow: 0px 1px 2px rgba(60, 64, 67, 0.3), 0px 1px 3px 1px rgba(60, 64, 67, 0.15);\n",
              "      fill: #174EA6;\n",
              "    }\n",
              "\n",
              "    .colab-df-buttons div {\n",
              "      margin-bottom: 4px;\n",
              "    }\n",
              "\n",
              "    [theme=dark] .colab-df-convert {\n",
              "      background-color: #3B4455;\n",
              "      fill: #D2E3FC;\n",
              "    }\n",
              "\n",
              "    [theme=dark] .colab-df-convert:hover {\n",
              "      background-color: #434B5C;\n",
              "      box-shadow: 0px 1px 3px 1px rgba(0, 0, 0, 0.15);\n",
              "      filter: drop-shadow(0px 1px 2px rgba(0, 0, 0, 0.3));\n",
              "      fill: #FFFFFF;\n",
              "    }\n",
              "  </style>\n",
              "\n",
              "    <script>\n",
              "      const buttonEl =\n",
              "        document.querySelector('#df-0c6ed29e-52b1-4681-8e21-50458357af2b button.colab-df-convert');\n",
              "      buttonEl.style.display =\n",
              "        google.colab.kernel.accessAllowed ? 'block' : 'none';\n",
              "\n",
              "      async function convertToInteractive(key) {\n",
              "        const element = document.querySelector('#df-0c6ed29e-52b1-4681-8e21-50458357af2b');\n",
              "        const dataTable =\n",
              "          await google.colab.kernel.invokeFunction('convertToInteractive',\n",
              "                                                    [key], {});\n",
              "        if (!dataTable) return;\n",
              "\n",
              "        const docLinkHtml = 'Like what you see? Visit the ' +\n",
              "          '<a target=\"_blank\" href=https://colab.research.google.com/notebooks/data_table.ipynb>data table notebook</a>'\n",
              "          + ' to learn more about interactive tables.';\n",
              "        element.innerHTML = '';\n",
              "        dataTable['output_type'] = 'display_data';\n",
              "        await google.colab.output.renderOutput(dataTable, element);\n",
              "        const docLink = document.createElement('div');\n",
              "        docLink.innerHTML = docLinkHtml;\n",
              "        element.appendChild(docLink);\n",
              "      }\n",
              "    </script>\n",
              "  </div>\n",
              "\n",
              "\n",
              "<div id=\"df-2261b53f-8a9d-4a37-8d16-d7ee061d1ce5\">\n",
              "  <button class=\"colab-df-quickchart\" onclick=\"quickchart('df-2261b53f-8a9d-4a37-8d16-d7ee061d1ce5')\"\n",
              "            title=\"Suggest charts\"\n",
              "            style=\"display:none;\">\n",
              "\n",
              "<svg xmlns=\"http://www.w3.org/2000/svg\" height=\"24px\"viewBox=\"0 0 24 24\"\n",
              "     width=\"24px\">\n",
              "    <g>\n",
              "        <path d=\"M19 3H5c-1.1 0-2 .9-2 2v14c0 1.1.9 2 2 2h14c1.1 0 2-.9 2-2V5c0-1.1-.9-2-2-2zM9 17H7v-7h2v7zm4 0h-2V7h2v10zm4 0h-2v-4h2v4z\"/>\n",
              "    </g>\n",
              "</svg>\n",
              "  </button>\n",
              "\n",
              "<style>\n",
              "  .colab-df-quickchart {\n",
              "      --bg-color: #E8F0FE;\n",
              "      --fill-color: #1967D2;\n",
              "      --hover-bg-color: #E2EBFA;\n",
              "      --hover-fill-color: #174EA6;\n",
              "      --disabled-fill-color: #AAA;\n",
              "      --disabled-bg-color: #DDD;\n",
              "  }\n",
              "\n",
              "  [theme=dark] .colab-df-quickchart {\n",
              "      --bg-color: #3B4455;\n",
              "      --fill-color: #D2E3FC;\n",
              "      --hover-bg-color: #434B5C;\n",
              "      --hover-fill-color: #FFFFFF;\n",
              "      --disabled-bg-color: #3B4455;\n",
              "      --disabled-fill-color: #666;\n",
              "  }\n",
              "\n",
              "  .colab-df-quickchart {\n",
              "    background-color: var(--bg-color);\n",
              "    border: none;\n",
              "    border-radius: 50%;\n",
              "    cursor: pointer;\n",
              "    display: none;\n",
              "    fill: var(--fill-color);\n",
              "    height: 32px;\n",
              "    padding: 0;\n",
              "    width: 32px;\n",
              "  }\n",
              "\n",
              "  .colab-df-quickchart:hover {\n",
              "    background-color: var(--hover-bg-color);\n",
              "    box-shadow: 0 1px 2px rgba(60, 64, 67, 0.3), 0 1px 3px 1px rgba(60, 64, 67, 0.15);\n",
              "    fill: var(--button-hover-fill-color);\n",
              "  }\n",
              "\n",
              "  .colab-df-quickchart-complete:disabled,\n",
              "  .colab-df-quickchart-complete:disabled:hover {\n",
              "    background-color: var(--disabled-bg-color);\n",
              "    fill: var(--disabled-fill-color);\n",
              "    box-shadow: none;\n",
              "  }\n",
              "\n",
              "  .colab-df-spinner {\n",
              "    border: 2px solid var(--fill-color);\n",
              "    border-color: transparent;\n",
              "    border-bottom-color: var(--fill-color);\n",
              "    animation:\n",
              "      spin 1s steps(1) infinite;\n",
              "  }\n",
              "\n",
              "  @keyframes spin {\n",
              "    0% {\n",
              "      border-color: transparent;\n",
              "      border-bottom-color: var(--fill-color);\n",
              "      border-left-color: var(--fill-color);\n",
              "    }\n",
              "    20% {\n",
              "      border-color: transparent;\n",
              "      border-left-color: var(--fill-color);\n",
              "      border-top-color: var(--fill-color);\n",
              "    }\n",
              "    30% {\n",
              "      border-color: transparent;\n",
              "      border-left-color: var(--fill-color);\n",
              "      border-top-color: var(--fill-color);\n",
              "      border-right-color: var(--fill-color);\n",
              "    }\n",
              "    40% {\n",
              "      border-color: transparent;\n",
              "      border-right-color: var(--fill-color);\n",
              "      border-top-color: var(--fill-color);\n",
              "    }\n",
              "    60% {\n",
              "      border-color: transparent;\n",
              "      border-right-color: var(--fill-color);\n",
              "    }\n",
              "    80% {\n",
              "      border-color: transparent;\n",
              "      border-right-color: var(--fill-color);\n",
              "      border-bottom-color: var(--fill-color);\n",
              "    }\n",
              "    90% {\n",
              "      border-color: transparent;\n",
              "      border-bottom-color: var(--fill-color);\n",
              "    }\n",
              "  }\n",
              "</style>\n",
              "\n",
              "  <script>\n",
              "    async function quickchart(key) {\n",
              "      const quickchartButtonEl =\n",
              "        document.querySelector('#' + key + ' button');\n",
              "      quickchartButtonEl.disabled = true;  // To prevent multiple clicks.\n",
              "      quickchartButtonEl.classList.add('colab-df-spinner');\n",
              "      try {\n",
              "        const charts = await google.colab.kernel.invokeFunction(\n",
              "            'suggestCharts', [key], {});\n",
              "      } catch (error) {\n",
              "        console.error('Error during call to suggestCharts:', error);\n",
              "      }\n",
              "      quickchartButtonEl.classList.remove('colab-df-spinner');\n",
              "      quickchartButtonEl.classList.add('colab-df-quickchart-complete');\n",
              "    }\n",
              "    (() => {\n",
              "      let quickchartButtonEl =\n",
              "        document.querySelector('#df-2261b53f-8a9d-4a37-8d16-d7ee061d1ce5 button');\n",
              "      quickchartButtonEl.style.display =\n",
              "        google.colab.kernel.accessAllowed ? 'block' : 'none';\n",
              "    })();\n",
              "  </script>\n",
              "</div>\n",
              "\n",
              "    </div>\n",
              "  </div>\n"
            ]
          },
          "metadata": {},
          "execution_count": 6
        }
      ],
      "source": [
        "df_train.head()"
      ],
      "id": "421NV0VIJVJv"
    },
    {
      "cell_type": "code",
      "execution_count": 7,
      "metadata": {
        "colab": {
          "base_uri": "https://localhost:8080/"
        },
        "id": "HgmIDokZJVJw",
        "outputId": "cc52f1e4-e90c-477a-909c-31cd1898bd1a"
      },
      "outputs": [
        {
          "output_type": "execute_result",
          "data": {
            "text/plain": [
              "Index(['user_name', 'user_location', 'user_description', 'user_created',\n",
              "       'user_followers', 'user_friends', 'user_favourites', 'user_verified',\n",
              "       'date', 'hashtags', 'source', 'is_retweet', 'clean_text', 'Sentiment'],\n",
              "      dtype='object')"
            ]
          },
          "metadata": {},
          "execution_count": 7
        }
      ],
      "source": [
        "df_train.columns"
      ],
      "id": "HgmIDokZJVJw"
    },
    {
      "cell_type": "markdown",
      "metadata": {
        "id": "mPPC21UlJVJx"
      },
      "source": [
        "### 3. Data Preprocessing and Visualization"
      ],
      "id": "mPPC21UlJVJx"
    },
    {
      "cell_type": "code",
      "execution_count": 8,
      "metadata": {
        "colab": {
          "base_uri": "https://localhost:8080/"
        },
        "id": "FrldwWW_JVJx",
        "outputId": "56bc7e94-5aba-4319-c361-96f17379334a"
      },
      "outputs": [
        {
          "output_type": "stream",
          "name": "stdout",
          "text": [
            "(17000, 14)\n",
            "(3068, 13)\n"
          ]
        }
      ],
      "source": [
        "print(df_train.shape) # this dataset contain 17000 records and 14 columns for training\n",
        "print(df_test.shape) # and 3068 records and 13 columns for testing"
      ],
      "id": "FrldwWW_JVJx"
    },
    {
      "cell_type": "code",
      "execution_count": 10,
      "metadata": {
        "colab": {
          "base_uri": "https://localhost:8080/",
          "height": 475
        },
        "id": "oH6hzAEwJVJy",
        "outputId": "1ec3f648-2101-4300-8094-5f4ebd9b4ec9"
      },
      "outputs": [
        {
          "output_type": "execute_result",
          "data": {
            "text/plain": [
              "<Axes: xlabel='Sentiment', ylabel='count'>"
            ]
          },
          "metadata": {},
          "execution_count": 10
        },
        {
          "output_type": "display_data",
          "data": {
            "text/plain": [
              "<Figure size 640x480 with 1 Axes>"
            ],
            "image/png": "[encoded data removed]"
          },
          "metadata": {}
        }
      ],
      "source": [
        "import seaborn as sns\n",
        "sns.countplot(x=\"Sentiment\", data=df_train, hue=\"Sentiment\")"
      ],
      "id": "oH6hzAEwJVJy"
    },
    {
      "cell_type": "code",
      "execution_count": 11,
      "metadata": {
        "colab": {
          "base_uri": "https://localhost:8080/"
        },
        "id": "jVBXfas3JVJy",
        "outputId": "20d4aa65-9ebf-4ce6-9a20-4d85832457b1"
      },
      "outputs": [
        {
          "output_type": "stream",
          "name": "stdout",
          "text": [
            "This train_dataset contain 34.86% Neutral Sentiment tweet\n",
            "This train_dataset contain 47.41% Positive Sentiment tweet\n",
            "This train_dataset contain 17.73% Negative Sentiment tweet\n"
          ]
        }
      ],
      "source": [
        "Neg = round(df_train[\"Sentiment\"].value_counts()[1]/len(df_train) * 100, 2)\n",
        "Pos = round(df_train[\"Sentiment\"].value_counts()[0]/len(df_train) * 100, 2)\n",
        "Neut = round(df_train[\"Sentiment\"].value_counts()[2]/len(df_train) * 100, 2)\n",
        "\n",
        "print('This train_dataset contain {}% Neutral Sentiment tweet'.format(Neg))\n",
        "print('This train_dataset contain {}% Positive Sentiment tweet'.format(Pos))\n",
        "print('This train_dataset contain {}% Negative Sentiment tweet'.format(Neut))"
      ],
      "id": "jVBXfas3JVJy"
    },
    {
      "cell_type": "code",
      "execution_count": 12,
      "metadata": {
        "id": "oE5EpSorJVJz"
      },
      "outputs": [],
      "source": [
        "# select relevent columns\n",
        "df_train = df_train[[\"clean_text\",\"Sentiment\"]]"
      ],
      "id": "oE5EpSorJVJz"
    },
    {
      "cell_type": "code",
      "execution_count": 13,
      "metadata": {
        "scrolled": true,
        "colab": {
          "base_uri": "https://localhost:8080/",
          "height": 206
        },
        "id": "6DaPcMl-JVJz",
        "outputId": "921982c8-9ca7-4897-8ee5-e710b1861570"
      },
      "outputs": [
        {
          "output_type": "execute_result",
          "data": {
            "text/plain": [
              "                                          clean_text Sentiment  label\n",
              "0  TheSocialDilemma is an eye opener isn t it ple...   Neutral      0\n",
              "1  TheSocialDilemma If we don t agree on what is ...  Positive      1\n",
              "2  Watching TheSocialDilemma scary to see social ...  Negative      2\n",
              "3  You check your social media before you pee in ...  Positive      1\n",
              "4  watch thesocialdilemma and see what s actually...  Negative      2"
            ],
            "text/html": [
              "\n",
              "  <div id=\"df-062f7fd8-e346-46c6-b77c-f31df44e9363\" class=\"colab-df-container\">\n",
              "    <div>\n",
              "<style scoped>\n",
              "    .dataframe tbody tr th:only-of-type {\n",
              "        vertical-align: middle;\n",
              "    }\n",
              "\n",
              "    .dataframe tbody tr th {\n",
              "        vertical-align: top;\n",
              "    }\n",
              "\n",
              "    .dataframe thead th {\n",
              "        text-align: right;\n",
              "    }\n",
              "</style>\n",
              "<table border=\"1\" class=\"dataframe\">\n",
              "  <thead>\n",
              "    <tr style=\"text-align: right;\">\n",
              "      <th></th>\n",
              "      <th>clean_text</th>\n",
              "      <th>Sentiment</th>\n",
              "      <th>label</th>\n",
              "    </tr>\n",
              "  </thead>\n",
              "  <tbody>\n",
              "    <tr>\n",
              "      <th>0</th>\n",
              "      <td>TheSocialDilemma is an eye opener isn t it ple...</td>\n",
              "      <td>Neutral</td>\n",
              "      <td>0</td>\n",
              "    </tr>\n",
              "    <tr>\n",
              "      <th>1</th>\n",
              "      <td>TheSocialDilemma If we don t agree on what is ...</td>\n",
              "      <td>Positive</td>\n",
              "      <td>1</td>\n",
              "    </tr>\n",
              "    <tr>\n",
              "      <th>2</th>\n",
              "      <td>Watching TheSocialDilemma scary to see social ...</td>\n",
              "      <td>Negative</td>\n",
              "      <td>2</td>\n",
              "    </tr>\n",
              "    <tr>\n",
              "      <th>3</th>\n",
              "      <td>You check your social media before you pee in ...</td>\n",
              "      <td>Positive</td>\n",
              "      <td>1</td>\n",
              "    </tr>\n",
              "    <tr>\n",
              "      <th>4</th>\n",
              "      <td>watch thesocialdilemma and see what s actually...</td>\n",
              "      <td>Negative</td>\n",
              "      <td>2</td>\n",
              "    </tr>\n",
              "  </tbody>\n",
              "</table>\n",
              "</div>\n",
              "    <div class=\"colab-df-buttons\">\n",
              "\n",
              "  <div class=\"colab-df-container\">\n",
              "    <button class=\"colab-df-convert\" onclick=\"convertToInteractive('df-062f7fd8-e346-46c6-b77c-f31df44e9363')\"\n",
              "            title=\"Convert this dataframe to an interactive table.\"\n",
              "            style=\"display:none;\">\n",
              "\n",
              "  <svg xmlns=\"http://www.w3.org/2000/svg\" height=\"24px\" viewBox=\"0 -960 960 960\">\n",
              "    <path d=\"M120-120v-720h720v720H120Zm60-500h600v-160H180v160Zm220 220h160v-160H400v160Zm0 220h160v-160H400v160ZM180-400h160v-160H180v160Zm440 0h160v-160H620v160ZM180-180h160v-160H180v160Zm440 0h160v-160H620v160Z\"/>\n",
              "  </svg>\n",
              "    </button>\n",
              "\n",
              "  <style>\n",
              "    .colab-df-container {\n",
              "      display:flex;\n",
              "      gap: 12px;\n",
              "    }\n",
              "\n",
              "    .colab-df-convert {\n",
              "      background-color: #E8F0FE;\n",
              "      border: none;\n",
              "      border-radius: 50%;\n",
              "      cursor: pointer;\n",
              "      display: none;\n",
              "      fill: #1967D2;\n",
              "      height: 32px;\n",
              "      padding: 0 0 0 0;\n",
              "      width: 32px;\n",
              "    }\n",
              "\n",
              "    .colab-df-convert:hover {\n",
              "      background-color: #E2EBFA;\n",
              "      box-shadow: 0px 1px 2px rgba(60, 64, 67, 0.3), 0px 1px 3px 1px rgba(60, 64, 67, 0.15);\n",
              "      fill: #174EA6;\n",
              "    }\n",
              "\n",
              "    .colab-df-buttons div {\n",
              "      margin-bottom: 4px;\n",
              "    }\n",
              "\n",
              "    [theme=dark] .colab-df-convert {\n",
              "      background-color: #3B4455;\n",
              "      fill: #D2E3FC;\n",
              "    }\n",
              "\n",
              "    [theme=dark] .colab-df-convert:hover {\n",
              "      background-color: #434B5C;\n",
              "      box-shadow: 0px 1px 3px 1px rgba(0, 0, 0, 0.15);\n",
              "      filter: drop-shadow(0px 1px 2px rgba(0, 0, 0, 0.3));\n",
              "      fill: #FFFFFF;\n",
              "    }\n",
              "  </style>\n",
              "\n",
              "    <script>\n",
              "      const buttonEl =\n",
              "        document.querySelector('#df-062f7fd8-e346-46c6-b77c-f31df44e9363 button.colab-df-convert');\n",
              "      buttonEl.style.display =\n",
              "        google.colab.kernel.accessAllowed ? 'block' : 'none';\n",
              "\n",
              "      async function convertToInteractive(key) {\n",
              "        const element = document.querySelector('#df-062f7fd8-e346-46c6-b77c-f31df44e9363');\n",
              "        const dataTable =\n",
              "          await google.colab.kernel.invokeFunction('convertToInteractive',\n",
              "                                                    [key], {});\n",
              "        if (!dataTable) return;\n",
              "\n",
              "        const docLinkHtml = 'Like what you see? Visit the ' +\n",
              "          '<a target=\"_blank\" href=https://colab.research.google.com/notebooks/data_table.ipynb>data table notebook</a>'\n",
              "          + ' to learn more about interactive tables.';\n",
              "        element.innerHTML = '';\n",
              "        dataTable['output_type'] = 'display_data';\n",
              "        await google.colab.output.renderOutput(dataTable, element);\n",
              "        const docLink = document.createElement('div');\n",
              "        docLink.innerHTML = docLinkHtml;\n",
              "        element.appendChild(docLink);\n",
              "      }\n",
              "    </script>\n",
              "  </div>\n",
              "\n",
              "\n",
              "<div id=\"df-d4624e02-2293-489a-a3bf-6adee83afea4\">\n",
              "  <button class=\"colab-df-quickchart\" onclick=\"quickchart('df-d4624e02-2293-489a-a3bf-6adee83afea4')\"\n",
              "            title=\"Suggest charts\"\n",
              "            style=\"display:none;\">\n",
              "\n",
              "<svg xmlns=\"http://www.w3.org/2000/svg\" height=\"24px\"viewBox=\"0 0 24 24\"\n",
              "     width=\"24px\">\n",
              "    <g>\n",
              "        <path d=\"M19 3H5c-1.1 0-2 .9-2 2v14c0 1.1.9 2 2 2h14c1.1 0 2-.9 2-2V5c0-1.1-.9-2-2-2zM9 17H7v-7h2v7zm4 0h-2V7h2v10zm4 0h-2v-4h2v4z\"/>\n",
              "    </g>\n",
              "</svg>\n",
              "  </button>\n",
              "\n",
              "<style>\n",
              "  .colab-df-quickchart {\n",
              "      --bg-color: #E8F0FE;\n",
              "      --fill-color: #1967D2;\n",
              "      --hover-bg-color: #E2EBFA;\n",
              "      --hover-fill-color: #174EA6;\n",
              "      --disabled-fill-color: #AAA;\n",
              "      --disabled-bg-color: #DDD;\n",
              "  }\n",
              "\n",
              "  [theme=dark] .colab-df-quickchart {\n",
              "      --bg-color: #3B4455;\n",
              "      --fill-color: #D2E3FC;\n",
              "      --hover-bg-color: #434B5C;\n",
              "      --hover-fill-color: #FFFFFF;\n",
              "      --disabled-bg-color: #3B4455;\n",
              "      --disabled-fill-color: #666;\n",
              "  }\n",
              "\n",
              "  .colab-df-quickchart {\n",
              "    background-color: var(--bg-color);\n",
              "    border: none;\n",
              "    border-radius: 50%;\n",
              "    cursor: pointer;\n",
              "    display: none;\n",
              "    fill: var(--fill-color);\n",
              "    height: 32px;\n",
              "    padding: 0;\n",
              "    width: 32px;\n",
              "  }\n",
              "\n",
              "  .colab-df-quickchart:hover {\n",
              "    background-color: var(--hover-bg-color);\n",
              "    box-shadow: 0 1px 2px rgba(60, 64, 67, 0.3), 0 1px 3px 1px rgba(60, 64, 67, 0.15);\n",
              "    fill: var(--button-hover-fill-color);\n",
              "  }\n",
              "\n",
              "  .colab-df-quickchart-complete:disabled,\n",
              "  .colab-df-quickchart-complete:disabled:hover {\n",
              "    background-color: var(--disabled-bg-color);\n",
              "    fill: var(--disabled-fill-color);\n",
              "    box-shadow: none;\n",
              "  }\n",
              "\n",
              "  .colab-df-spinner {\n",
              "    border: 2px solid var(--fill-color);\n",
              "    border-color: transparent;\n",
              "    border-bottom-color: var(--fill-color);\n",
              "    animation:\n",
              "      spin 1s steps(1) infinite;\n",
              "  }\n",
              "\n",
              "  @keyframes spin {\n",
              "    0% {\n",
              "      border-color: transparent;\n",
              "      border-bottom-color: var(--fill-color);\n",
              "      border-left-color: var(--fill-color);\n",
              "    }\n",
              "    20% {\n",
              "      border-color: transparent;\n",
              "      border-left-color: var(--fill-color);\n",
              "      border-top-color: var(--fill-color);\n",
              "    }\n",
              "    30% {\n",
              "      border-color: transparent;\n",
              "      border-left-color: var(--fill-color);\n",
              "      border-top-color: var(--fill-color);\n",
              "      border-right-color: var(--fill-color);\n",
              "    }\n",
              "    40% {\n",
              "      border-color: transparent;\n",
              "      border-right-color: var(--fill-color);\n",
              "      border-top-color: var(--fill-color);\n",
              "    }\n",
              "    60% {\n",
              "      border-color: transparent;\n",
              "      border-right-color: var(--fill-color);\n",
              "    }\n",
              "    80% {\n",
              "      border-color: transparent;\n",
              "      border-right-color: var(--fill-color);\n",
              "      border-bottom-color: var(--fill-color);\n",
              "    }\n",
              "    90% {\n",
              "      border-color: transparent;\n",
              "      border-bottom-color: var(--fill-color);\n",
              "    }\n",
              "  }\n",
              "</style>\n",
              "\n",
              "  <script>\n",
              "    async function quickchart(key) {\n",
              "      const quickchartButtonEl =\n",
              "        document.querySelector('#' + key + ' button');\n",
              "      quickchartButtonEl.disabled = true;  // To prevent multiple clicks.\n",
              "      quickchartButtonEl.classList.add('colab-df-spinner');\n",
              "      try {\n",
              "        const charts = await google.colab.kernel.invokeFunction(\n",
              "            'suggestCharts', [key], {});\n",
              "      } catch (error) {\n",
              "        console.error('Error during call to suggestCharts:', error);\n",
              "      }\n",
              "      quickchartButtonEl.classList.remove('colab-df-spinner');\n",
              "      quickchartButtonEl.classList.add('colab-df-quickchart-complete');\n",
              "    }\n",
              "    (() => {\n",
              "      let quickchartButtonEl =\n",
              "        document.querySelector('#df-d4624e02-2293-489a-a3bf-6adee83afea4 button');\n",
              "      quickchartButtonEl.style.display =\n",
              "        google.colab.kernel.accessAllowed ? 'block' : 'none';\n",
              "    })();\n",
              "  </script>\n",
              "</div>\n",
              "\n",
              "    </div>\n",
              "  </div>\n"
            ]
          },
          "metadata": {},
          "execution_count": 13
        }
      ],
      "source": [
        "# create a label columns using manual label encoding\n",
        "lab = {\"Neutral\":0,\"Positive\":1,\"Negative\":2}\n",
        "df_train['label']= df_train[\"Sentiment\"].map(lab)\n",
        "df_train.head()"
      ],
      "id": "6DaPcMl-JVJz"
    },
    {
      "cell_type": "code",
      "execution_count": 14,
      "metadata": {
        "id": "ILSC0P7dJVJ0"
      },
      "outputs": [],
      "source": [
        "df_train = df_train[[\"clean_text\", \"label\"]]"
      ],
      "id": "ILSC0P7dJVJ0"
    },
    {
      "cell_type": "code",
      "execution_count": 15,
      "metadata": {
        "scrolled": true,
        "colab": {
          "base_uri": "https://localhost:8080/",
          "height": 206
        },
        "id": "6FYHQEesJVJ0",
        "outputId": "6355d32c-0b45-429b-ae61-980a4f7379e2"
      },
      "outputs": [
        {
          "output_type": "execute_result",
          "data": {
            "text/plain": [
              "                                          clean_text  label\n",
              "0  TheSocialDilemma is an eye opener isn t it ple...      0\n",
              "1  TheSocialDilemma If we don t agree on what is ...      1\n",
              "2  Watching TheSocialDilemma scary to see social ...      2\n",
              "3  You check your social media before you pee in ...      1\n",
              "4  watch thesocialdilemma and see what s actually...      2"
            ],
            "text/html": [
              "\n",
              "  <div id=\"df-0fdc6a00-f36a-47f6-aecb-e51f76e58549\" class=\"colab-df-container\">\n",
              "    <div>\n",
              "<style scoped>\n",
              "    .dataframe tbody tr th:only-of-type {\n",
              "        vertical-align: middle;\n",
              "    }\n",
              "\n",
              "    .dataframe tbody tr th {\n",
              "        vertical-align: top;\n",
              "    }\n",
              "\n",
              "    .dataframe thead th {\n",
              "        text-align: right;\n",
              "    }\n",
              "</style>\n",
              "<table border=\"1\" class=\"dataframe\">\n",
              "  <thead>\n",
              "    <tr style=\"text-align: right;\">\n",
              "      <th></th>\n",
              "      <th>clean_text</th>\n",
              "      <th>label</th>\n",
              "    </tr>\n",
              "  </thead>\n",
              "  <tbody>\n",
              "    <tr>\n",
              "      <th>0</th>\n",
              "      <td>TheSocialDilemma is an eye opener isn t it ple...</td>\n",
              "      <td>0</td>\n",
              "    </tr>\n",
              "    <tr>\n",
              "      <th>1</th>\n",
              "      <td>TheSocialDilemma If we don t agree on what is ...</td>\n",
              "      <td>1</td>\n",
              "    </tr>\n",
              "    <tr>\n",
              "      <th>2</th>\n",
              "      <td>Watching TheSocialDilemma scary to see social ...</td>\n",
              "      <td>2</td>\n",
              "    </tr>\n",
              "    <tr>\n",
              "      <th>3</th>\n",
              "      <td>You check your social media before you pee in ...</td>\n",
              "      <td>1</td>\n",
              "    </tr>\n",
              "    <tr>\n",
              "      <th>4</th>\n",
              "      <td>watch thesocialdilemma and see what s actually...</td>\n",
              "      <td>2</td>\n",
              "    </tr>\n",
              "  </tbody>\n",
              "</table>\n",
              "</div>\n",
              "    <div class=\"colab-df-buttons\">\n",
              "\n",
              "  <div class=\"colab-df-container\">\n",
              "    <button class=\"colab-df-convert\" onclick=\"convertToInteractive('df-0fdc6a00-f36a-47f6-aecb-e51f76e58549')\"\n",
              "            title=\"Convert this dataframe to an interactive table.\"\n",
              "            style=\"display:none;\">\n",
              "\n",
              "  <svg xmlns=\"http://www.w3.org/2000/svg\" height=\"24px\" viewBox=\"0 -960 960 960\">\n",
              "    <path d=\"M120-120v-720h720v720H120Zm60-500h600v-160H180v160Zm220 220h160v-160H400v160Zm0 220h160v-160H400v160ZM180-400h160v-160H180v160Zm440 0h160v-160H620v160ZM180-180h160v-160H180v160Zm440 0h160v-160H620v160Z\"/>\n",
              "  </svg>\n",
              "    </button>\n",
              "\n",
              "  <style>\n",
              "    .colab-df-container {\n",
              "      display:flex;\n",
              "      gap: 12px;\n",
              "    }\n",
              "\n",
              "    .colab-df-convert {\n",
              "      background-color: #E8F0FE;\n",
              "      border: none;\n",
              "      border-radius: 50%;\n",
              "      cursor: pointer;\n",
              "      display: none;\n",
              "      fill: #1967D2;\n",
              "      height: 32px;\n",
              "      padding: 0 0 0 0;\n",
              "      width: 32px;\n",
              "    }\n",
              "\n",
              "    .colab-df-convert:hover {\n",
              "      background-color: #E2EBFA;\n",
              "      box-shadow: 0px 1px 2px rgba(60, 64, 67, 0.3), 0px 1px 3px 1px rgba(60, 64, 67, 0.15);\n",
              "      fill: #174EA6;\n",
              "    }\n",
              "\n",
              "    .colab-df-buttons div {\n",
              "      margin-bottom: 4px;\n",
              "    }\n",
              "\n",
              "    [theme=dark] .colab-df-convert {\n",
              "      background-color: #3B4455;\n",
              "      fill: #D2E3FC;\n",
              "    }\n",
              "\n",
              "    [theme=dark] .colab-df-convert:hover {\n",
              "      background-color: #434B5C;\n",
              "      box-shadow: 0px 1px 3px 1px rgba(0, 0, 0, 0.15);\n",
              "      filter: drop-shadow(0px 1px 2px rgba(0, 0, 0, 0.3));\n",
              "      fill: #FFFFFF;\n",
              "    }\n",
              "  </style>\n",
              "\n",
              "    <script>\n",
              "      const buttonEl =\n",
              "        document.querySelector('#df-0fdc6a00-f36a-47f6-aecb-e51f76e58549 button.colab-df-convert');\n",
              "      buttonEl.style.display =\n",
              "        google.colab.kernel.accessAllowed ? 'block' : 'none';\n",
              "\n",
              "      async function convertToInteractive(key) {\n",
              "        const element = document.querySelector('#df-0fdc6a00-f36a-47f6-aecb-e51f76e58549');\n",
              "        const dataTable =\n",
              "          await google.colab.kernel.invokeFunction('convertToInteractive',\n",
              "                                                    [key], {});\n",
              "        if (!dataTable) return;\n",
              "\n",
              "        const docLinkHtml = 'Like what you see? Visit the ' +\n",
              "          '<a target=\"_blank\" href=https://colab.research.google.com/notebooks/data_table.ipynb>data table notebook</a>'\n",
              "          + ' to learn more about interactive tables.';\n",
              "        element.innerHTML = '';\n",
              "        dataTable['output_type'] = 'display_data';\n",
              "        await google.colab.output.renderOutput(dataTable, element);\n",
              "        const docLink = document.createElement('div');\n",
              "        docLink.innerHTML = docLinkHtml;\n",
              "        element.appendChild(docLink);\n",
              "      }\n",
              "    </script>\n",
              "  </div>\n",
              "\n",
              "\n",
              "<div id=\"df-73caf0d6-61ec-4bcc-83cc-dfb6d8b51d02\">\n",
              "  <button class=\"colab-df-quickchart\" onclick=\"quickchart('df-73caf0d6-61ec-4bcc-83cc-dfb6d8b51d02')\"\n",
              "            title=\"Suggest charts\"\n",
              "            style=\"display:none;\">\n",
              "\n",
              "<svg xmlns=\"http://www.w3.org/2000/svg\" height=\"24px\"viewBox=\"0 0 24 24\"\n",
              "     width=\"24px\">\n",
              "    <g>\n",
              "        <path d=\"M19 3H5c-1.1 0-2 .9-2 2v14c0 1.1.9 2 2 2h14c1.1 0 2-.9 2-2V5c0-1.1-.9-2-2-2zM9 17H7v-7h2v7zm4 0h-2V7h2v10zm4 0h-2v-4h2v4z\"/>\n",
              "    </g>\n",
              "</svg>\n",
              "  </button>\n",
              "\n",
              "<style>\n",
              "  .colab-df-quickchart {\n",
              "      --bg-color: #E8F0FE;\n",
              "      --fill-color: #1967D2;\n",
              "      --hover-bg-color: #E2EBFA;\n",
              "      --hover-fill-color: #174EA6;\n",
              "      --disabled-fill-color: #AAA;\n",
              "      --disabled-bg-color: #DDD;\n",
              "  }\n",
              "\n",
              "  [theme=dark] .colab-df-quickchart {\n",
              "      --bg-color: #3B4455;\n",
              "      --fill-color: #D2E3FC;\n",
              "      --hover-bg-color: #434B5C;\n",
              "      --hover-fill-color: #FFFFFF;\n",
              "      --disabled-bg-color: #3B4455;\n",
              "      --disabled-fill-color: #666;\n",
              "  }\n",
              "\n",
              "  .colab-df-quickchart {\n",
              "    background-color: var(--bg-color);\n",
              "    border: none;\n",
              "    border-radius: 50%;\n",
              "    cursor: pointer;\n",
              "    display: none;\n",
              "    fill: var(--fill-color);\n",
              "    height: 32px;\n",
              "    padding: 0;\n",
              "    width: 32px;\n",
              "  }\n",
              "\n",
              "  .colab-df-quickchart:hover {\n",
              "    background-color: var(--hover-bg-color);\n",
              "    box-shadow: 0 1px 2px rgba(60, 64, 67, 0.3), 0 1px 3px 1px rgba(60, 64, 67, 0.15);\n",
              "    fill: var(--button-hover-fill-color);\n",
              "  }\n",
              "\n",
              "  .colab-df-quickchart-complete:disabled,\n",
              "  .colab-df-quickchart-complete:disabled:hover {\n",
              "    background-color: var(--disabled-bg-color);\n",
              "    fill: var(--disabled-fill-color);\n",
              "    box-shadow: none;\n",
              "  }\n",
              "\n",
              "  .colab-df-spinner {\n",
              "    border: 2px solid var(--fill-color);\n",
              "    border-color: transparent;\n",
              "    border-bottom-color: var(--fill-color);\n",
              "    animation:\n",
              "      spin 1s steps(1) infinite;\n",
              "  }\n",
              "\n",
              "  @keyframes spin {\n",
              "    0% {\n",
              "      border-color: transparent;\n",
              "      border-bottom-color: var(--fill-color);\n",
              "      border-left-color: var(--fill-color);\n",
              "    }\n",
              "    20% {\n",
              "      border-color: transparent;\n",
              "      border-left-color: var(--fill-color);\n",
              "      border-top-color: var(--fill-color);\n",
              "    }\n",
              "    30% {\n",
              "      border-color: transparent;\n",
              "      border-left-color: var(--fill-color);\n",
              "      border-top-color: var(--fill-color);\n",
              "      border-right-color: var(--fill-color);\n",
              "    }\n",
              "    40% {\n",
              "      border-color: transparent;\n",
              "      border-right-color: var(--fill-color);\n",
              "      border-top-color: var(--fill-color);\n",
              "    }\n",
              "    60% {\n",
              "      border-color: transparent;\n",
              "      border-right-color: var(--fill-color);\n",
              "    }\n",
              "    80% {\n",
              "      border-color: transparent;\n",
              "      border-right-color: var(--fill-color);\n",
              "      border-bottom-color: var(--fill-color);\n",
              "    }\n",
              "    90% {\n",
              "      border-color: transparent;\n",
              "      border-bottom-color: var(--fill-color);\n",
              "    }\n",
              "  }\n",
              "</style>\n",
              "\n",
              "  <script>\n",
              "    async function quickchart(key) {\n",
              "      const quickchartButtonEl =\n",
              "        document.querySelector('#' + key + ' button');\n",
              "      quickchartButtonEl.disabled = true;  // To prevent multiple clicks.\n",
              "      quickchartButtonEl.classList.add('colab-df-spinner');\n",
              "      try {\n",
              "        const charts = await google.colab.kernel.invokeFunction(\n",
              "            'suggestCharts', [key], {});\n",
              "      } catch (error) {\n",
              "        console.error('Error during call to suggestCharts:', error);\n",
              "      }\n",
              "      quickchartButtonEl.classList.remove('colab-df-spinner');\n",
              "      quickchartButtonEl.classList.add('colab-df-quickchart-complete');\n",
              "    }\n",
              "    (() => {\n",
              "      let quickchartButtonEl =\n",
              "        document.querySelector('#df-73caf0d6-61ec-4bcc-83cc-dfb6d8b51d02 button');\n",
              "      quickchartButtonEl.style.display =\n",
              "        google.colab.kernel.accessAllowed ? 'block' : 'none';\n",
              "    })();\n",
              "  </script>\n",
              "</div>\n",
              "\n",
              "    </div>\n",
              "  </div>\n"
            ]
          },
          "metadata": {},
          "execution_count": 15
        }
      ],
      "source": [
        "df_train.head()"
      ],
      "id": "6FYHQEesJVJ0"
    },
    {
      "cell_type": "code",
      "execution_count": 16,
      "metadata": {
        "colab": {
          "base_uri": "https://localhost:8080/"
        },
        "id": "sB9QpO4hJVJ0",
        "outputId": "e00b8084-8a1f-41be-85d5-3602f8c07caf"
      },
      "outputs": [
        {
          "output_type": "execute_result",
          "data": {
            "text/plain": [
              "clean_text    8\n",
              "label         0\n",
              "dtype: int64"
            ]
          },
          "metadata": {},
          "execution_count": 16
        }
      ],
      "source": [
        "# check for missing value\n",
        "df_train.isnull().sum()"
      ],
      "id": "sB9QpO4hJVJ0"
    },
    {
      "cell_type": "code",
      "execution_count": 17,
      "metadata": {
        "colab": {
          "base_uri": "https://localhost:8080/"
        },
        "id": "U0X_VhzcJVJ1",
        "outputId": "9afe1ac4-3246-471f-cf65-d6c1d93ed92a"
      },
      "outputs": [
        {
          "output_type": "execute_result",
          "data": {
            "text/plain": [
              "clean_text    0\n",
              "label         0\n",
              "dtype: int64"
            ]
          },
          "metadata": {},
          "execution_count": 17
        }
      ],
      "source": [
        "# drop missing rows\n",
        "df_train = df_train.dropna()\n",
        "\n",
        "df_train.isnull().sum()"
      ],
      "id": "U0X_VhzcJVJ1"
    },
    {
      "cell_type": "code",
      "execution_count": 18,
      "metadata": {
        "id": "52kXYHxwJVJ1"
      },
      "outputs": [],
      "source": [
        "# convert training dataset into tensorflow dataset format\n",
        "\n",
        "train_dataset = (\n",
        "    tf.data.Dataset.from_tensor_slices(\n",
        "        (\n",
        "            tf.cast(df_train[\"clean_text\"].values, tf.string),\n",
        "            tf.cast(df_train['label'].values, tf.int32)\n",
        "        )\n",
        "    )\n",
        ")\n",
        "\n"
      ],
      "id": "52kXYHxwJVJ1"
    },
    {
      "cell_type": "code",
      "execution_count": 19,
      "metadata": {
        "colab": {
          "base_uri": "https://localhost:8080/"
        },
        "id": "BL6velAGJVJ1",
        "outputId": "4e31c634-35a4-44b8-edca-2fbc1abda6db"
      },
      "outputs": [
        {
          "output_type": "execute_result",
          "data": {
            "text/plain": [
              "<_TensorSliceDataset element_spec=(TensorSpec(shape=(), dtype=tf.string, name=None), TensorSpec(shape=(), dtype=tf.int32, name=None))>"
            ]
          },
          "metadata": {},
          "execution_count": 19
        }
      ],
      "source": [
        "train_dataset"
      ],
      "id": "BL6velAGJVJ1"
    },
    {
      "cell_type": "code",
      "execution_count": 20,
      "metadata": {
        "colab": {
          "base_uri": "https://localhost:8080/"
        },
        "id": "MuAFiFMLJVJ1",
        "outputId": "03414afd-c349-4abe-cc6d-8e1deff8beee"
      },
      "outputs": [
        {
          "output_type": "stream",
          "name": "stdout",
          "text": [
            "example :  b'TheSocialDilemma is an eye opener isn t it please ignore the irony of me tweeting about it'\n",
            "label:  0\n",
            "example :  b'TheSocialDilemma If we don t agree on what is true or that there is such a thing as truth we re toast This is'\n",
            "label:  1\n",
            "example :  b'Watching TheSocialDilemma scary to see social media is fucking up the mental health of Gen X'\n",
            "label:  2\n",
            "example :  b'You check your social media before you pee in the morning or whilst you are peeing Those are only 2 choices you ha'\n",
            "label:  1\n",
            "example :  b'watch thesocialdilemma and see what s actually going on And share it s scary but 100 true'\n",
            "label:  2\n"
          ]
        }
      ],
      "source": [
        "# print first five record from train dataset\n",
        "for example, label in train_dataset.take(5):\n",
        "    print(\"example : \", example.numpy())\n",
        "    print(\"label: \", label.numpy())"
      ],
      "id": "MuAFiFMLJVJ1"
    },
    {
      "cell_type": "code",
      "execution_count": 21,
      "metadata": {
        "id": "Ia-FlTv2JVJ2"
      },
      "outputs": [],
      "source": [
        "BUFFER_SIZE = 10000\n",
        "BATCH_SIZE = 64"
      ],
      "id": "Ia-FlTv2JVJ2"
    },
    {
      "cell_type": "code",
      "execution_count": 22,
      "metadata": {
        "id": "VaNBnOgcJVJ2"
      },
      "outputs": [],
      "source": [
        "# create batches of the dataset\n",
        "\n",
        "train_dataset = train_dataset.shuffle(BUFFER_SIZE).batch(BATCH_SIZE).prefetch(tf.data.AUTOTUNE)\n",
        "\n",
        "# now every batch will have 64 samples"
      ],
      "id": "VaNBnOgcJVJ2"
    },
    {
      "cell_type": "code",
      "execution_count": 23,
      "metadata": {
        "colab": {
          "base_uri": "https://localhost:8080/"
        },
        "id": "Zz9HxtceJVJ2",
        "outputId": "cbda2c6e-23f6-4a0a-940c-b4bb750cae20"
      },
      "outputs": [
        {
          "output_type": "stream",
          "name": "stdout",
          "text": [
            "example :  [b'TheSocialDilemma is freaking me out so here I am Posting on Twitter'\n",
            " b'Hello Highly suggest watching TheSocialDilemma on Netflix and waking yourself up Use Social Media wisely my friends'\n",
            " b'Website of the documentary in TheSocialDilemma A MUST WATCH'\n",
            " b'I searched for TheSocialDilemma to see what people think of it How ironic Btw it s good and people should watch it'\n",
            " b'OurPact has been keeping kids safe online with over 1 2 million families OurPact for scree'\n",
            " b'The best and most honest review of TheSocialDilemma'\n",
            " b'I m currently watching TheSocialDilemma on and I feel like I m not learning anything tbh I ll post my th'\n",
            " b'Just finished watching TheSocialDilemma and YIKES'\n",
            " b'TheSocialDilemma GOC Rating 8 5 10 The Technology that connects us Controls us documentary focuses on'\n",
            " b'Saw TheSocialDilemma This is not true for India Our IT cells are in control Totally democracyday DontWorryDarling'\n",
            " b'A must watch OurPact has been keeping kids safe online with o'\n",
            " b'This is a must watch TheSocialDilemma'\n",
            " b'There are only two industries that call their customers users illegal drugs and software Edward Tufte'\n",
            " b'Shit crazy TheSocialDilemma'\n",
            " b'these two graphs absolutely broke my heart these poor pre teen girls man i remember the surge of attention to'\n",
            " b'I learned from watching TheSocialDilemma that there are always three people involved in a two person conversation'\n",
            " b'From a loyal shareholder this is clear politically driven censorship and it s scary for the world TheSocialDilemma'\n",
            " b'Ummmm are we gonna talk about TheSocialDilemma'\n",
            " b'Isla actually broke the lock to get her fon back TheSocialDilemma digitalopium socialmedia SundayMotivation ATLvsDAL PulseGhana'\n",
            " b'Now Watching TheSocialDilemma'\n",
            " b'And if that doesn t scare you then I don t know what will TheSocialDilemma Netflix 2020Movies Documentary'\n",
            " b'Just watched TheSocialDilemma goodbye Twitter'\n",
            " b'TheSocialDilemma needs to be watched on Netflix'\n",
            " b'Everyone needs to go watch The Social Dilemma None of this social media shit matters people TheSocialDilemma'\n",
            " b'Watch TheSocialDilemma now and SAVE YOUR FAMILY FuckFacebook FuckTwitter FuckSiliconValley MyLastPost'\n",
            " b'Are the topics covered in TheSocialDilemma really new to people Even people who work in social'\n",
            " b'Finally watching TheSocialDilemma'\n",
            " b'if you re not paying for the product you are the product TheSocialDilemma'\n",
            " b'TheSocialDilemma on Netflix was really good These companies just out here manipulating the whole human race and c'\n",
            " b'Me after watching The Social Dilemma on Netflix TheSocialDilemma'\n",
            " b'Any sufficiently advanced technology is indistinguishable from magic Arthur C Clarke TheSocialDilemma'\n",
            " b'If you haven t seen it well do it and rethink a lot of things you do online TheSocialDilemma'\n",
            " b'As Morpheus says unfortunately no one can be told what the Matrix is You have to see it for yourself'\n",
            " b'Free will TheSocialDilemma'\n",
            " b'I ll follow Jaron Lanier s advice on TheSocialDilemma I will not click on suggestions anymore I ll acti'\n",
            " b'If you re not horrified by the realities presented in Netflix s The Social Dilemma I would suggest you watch'\n",
            " b'TheSocialDilemma on Netflix is an updated version of the 2013 documentary Terms and Conditions May Apply but wi'\n",
            " b'How do you wake up from the matrix when you don t know you re in the matrix'\n",
            " b'TheSocialDilemma is frighteningly brilliant How do you know how to get out of the matrix if you don t know you'\n",
            " b'everything you do is being watched how long you stop and look at an image I know this is tiktok s algorith'\n",
            " b'Still can t get over TheSocialDilemma grabe super must watch A perfect horror film for the 21st century'\n",
            " b'Are you addicted to checking FB instagram or twitter every few seconds Well I couldn t answer it honestly'\n",
            " b'Fake news on Twitter spreads six times faster than true news TheSocialDilemma'\n",
            " b'Thoroughly enjoyed TheSocialDilemma on Netflix it lives up to the hype A fittingly scary look at the impacts of'\n",
            " b'Please before you CancelNetflx watch TheSocialDilemma please'\n",
            " b'The Social Dilemma on Netflix it s must see tv TheSocialDilemma'\n",
            " b'TheSocialDilemma is a must watch'\n",
            " b'I keep putting off watching TheSocialDilemma as I figure it might put me off Twitter But then I keep seeing peop'\n",
            " b'Lines like If you are not paying for the product then you are the product makes it one of the most important mo'\n",
            " b'It s really advisable to the people who spends more time on social media AI TheSocialDilemma Humanbehaviour'\n",
            " b'watched the documentary TheSocialDilemma today with my friend and can only recommend'\n",
            " b'Because you are the product TheSocialDilemma'\n",
            " b'Just finished TheSocialDilemma on Netflix amp it s wild 10 10 recommend'\n",
            " b'TheSocialDilemma great documentary'\n",
            " b'TheSocialDilemma yalll this shit we know it s true scary shit my friends scary shit'\n",
            " b'The irony of me watching TheSocialDilemma on Netflix and then rushing to twitter to share that i m slowly but sure'\n",
            " b'If you are not paying for the product then you are the product TheSocialDilemma on is an eye opener'\n",
            " b'OurPact has been keeping kids safe online with over 1 2 million fam'\n",
            " b'Everyone who uses social media should watch TheSocialDilemma on'\n",
            " b'Hmm after long time someone told me what I need to know TheSocialDilemma now social media tools don t'\n",
            " b'Ironically posting this on but do watch TheSocialDilemma on Talks about a very important'\n",
            " b'Only drug dealers and software companies call their customers users Edward Tufte TheSocialDilemma Netflix What do you think'\n",
            " b'Power is back on and I just finished TheSocialDilemma on WOW POWERFUL An eye opening MUST SEE The la'\n",
            " b'This was an eye opener TheSocialDilemma nails it']\n",
            "-----------------------\n",
            "label:  [0 1 0 1 1 1 0 0 0 2 1 0 2 2 2 0 2 0 0 0 0 0 0 2 0 1 0 0 1 1 1 0 1 1 0 1 0\n",
            " 0 1 2 1 2 2 0 0 1 0 0 1 1 0 0 1 1 2 2 0 1 1 2 1 0 1 0]\n",
            "-----------------------\n",
            "total len:  64\n"
          ]
        }
      ],
      "source": [
        "# print first batch from train dataset\n",
        "\n",
        "for example, label in train_dataset.take(1):\n",
        "    print(\"example : \", example.numpy())\n",
        "    print(\"-----------------------\")\n",
        "    print(\"label: \", label.numpy())\n",
        "    print(\"-----------------------\")\n",
        "    print(\"total len: \", len(label.numpy()))"
      ],
      "id": "Zz9HxtceJVJ2"
    },
    {
      "cell_type": "markdown",
      "metadata": {
        "id": "_TzXJzXlJVJ2"
      },
      "source": [
        "### 4. Creating your training and validation splits"
      ],
      "id": "_TzXJzXlJVJ2"
    },
    {
      "cell_type": "code",
      "execution_count": 24,
      "metadata": {
        "id": "IJxl-YWMJVJ3"
      },
      "outputs": [],
      "source": [
        "# create validation dataset\n",
        "val_dataset = train_dataset.take(100)\n",
        "train_dataset = train_dataset.skip(100)\n",
        "\n",
        "# select first 100 batch from train dataset for validation data\n",
        "# each bacth will contain 64 samples and skip first 100 batch from train dataset"
      ],
      "id": "IJxl-YWMJVJ3"
    },
    {
      "cell_type": "markdown",
      "metadata": {
        "id": "G90soFlOJVJ3"
      },
      "source": [
        "### Create the text encoder\n"
      ],
      "id": "G90soFlOJVJ3"
    },
    {
      "cell_type": "markdown",
      "metadata": {
        "id": "JefgpvDDJVJ4"
      },
      "source": [
        "The raw text data needs to be processed before it can be used in a model. The simplest way to process text for training is using the text-vectorization layer."
      ],
      "id": "JefgpvDDJVJ4"
    },
    {
      "cell_type": "code",
      "execution_count": 25,
      "metadata": {
        "id": "a--cu4QbJVJ4"
      },
      "outputs": [],
      "source": [
        "# Create the layer, and pass the dataset text to the layer's .adapt method\n",
        "\n",
        "VOCAB_SIZE = 1000\n",
        "encoder = tf.keras.layers.experimental.preprocessing.TextVectorization(max_tokens=VOCAB_SIZE)\n",
        "encoder.adapt(train_dataset.map(lambda text, label: text))"
      ],
      "id": "a--cu4QbJVJ4"
    },
    {
      "cell_type": "code",
      "execution_count": 26,
      "metadata": {
        "colab": {
          "base_uri": "https://localhost:8080/"
        },
        "id": "hySj811kJVJ4",
        "outputId": "9e485289-cedc-456b-d0b5-c1a1a22078ac"
      },
      "outputs": [
        {
          "output_type": "execute_result",
          "data": {
            "text/plain": [
              "array(['', '[UNK]', 'thesocialdilemma', 'the', 'i', 'to', 'on', 'and',\n",
              "       'a', 'you', 'is', 'it', 'social', 'watch', 'of', 'netflix', 'this',\n",
              "       's', 'media', 'that'], dtype='<U22')"
            ]
          },
          "metadata": {},
          "execution_count": 26
        }
      ],
      "source": [
        "# create vocabulary of words\n",
        "vocab = np.array(encoder.get_vocabulary())\n",
        "\n",
        "# print top 20 vocab\n",
        "vocab[0:20]"
      ],
      "id": "hySj811kJVJ4"
    },
    {
      "cell_type": "code",
      "execution_count": 27,
      "metadata": {
        "id": "d4sJ_kODJVJ5"
      },
      "outputs": [],
      "source": [
        "encoded_example = encoder(\"This is a nice pen!\").numpy()"
      ],
      "id": "d4sJ_kODJVJ5"
    },
    {
      "cell_type": "code",
      "execution_count": 28,
      "metadata": {
        "colab": {
          "base_uri": "https://localhost:8080/"
        },
        "id": "fDqHeWxxJVJ5",
        "outputId": "0d6e5e41-b0f6-4c78-ecc1-fe84f252c60f"
      },
      "outputs": [
        {
          "output_type": "execute_result",
          "data": {
            "text/plain": [
              "array([ 16,  10,   8, 828,   1])"
            ]
          },
          "metadata": {},
          "execution_count": 28
        }
      ],
      "source": [
        "encoded_example"
      ],
      "id": "fDqHeWxxJVJ5"
    },
    {
      "cell_type": "code",
      "execution_count": 29,
      "metadata": {
        "colab": {
          "base_uri": "https://localhost:8080/",
          "height": 35
        },
        "id": "f6SrqcuEJVJ6",
        "outputId": "13f60d7c-644f-4aa5-9772-bdbe31aec356"
      },
      "outputs": [
        {
          "output_type": "execute_result",
          "data": {
            "text/plain": [
              "'[UNK]'"
            ],
            "application/vnd.google.colaboratory.intrinsic+json": {
              "type": "string"
            }
          },
          "metadata": {},
          "execution_count": 29
        }
      ],
      "source": [
        "encoder.get_vocabulary()[1]"
      ],
      "id": "f6SrqcuEJVJ6"
    },
    {
      "cell_type": "markdown",
      "metadata": {
        "id": "5EyCWVjNJVJ6"
      },
      "source": [
        "### 5. Defining your RNN model architecture"
      ],
      "id": "5EyCWVjNJVJ6"
    },
    {
      "cell_type": "code",
      "execution_count": 30,
      "metadata": {
        "id": "JzxOrTKwJVJ6"
      },
      "outputs": [],
      "source": [
        "# creating RNN model\n",
        "model = tf.keras.Sequential([\n",
        "    encoder,\n",
        "    tf.keras.layers.Embedding(input_dim=len(encoder.get_vocabulary()), output_dim=64, mask_zero=True),\n",
        "    tf.keras.layers.SimpleRNN(64),\n",
        "    tf.keras.layers.Dense(64, activation=\"relu\"),\n",
        "    tf.keras.layers.Dense(3, activation=\"softmax\")\n",
        "])\n"
      ],
      "id": "JzxOrTKwJVJ6"
    },
    {
      "cell_type": "markdown",
      "metadata": {
        "id": "AY2jDZzeJVJ6"
      },
      "source": [
        "### 6. Compiling your RNN model"
      ],
      "id": "AY2jDZzeJVJ6"
    },
    {
      "cell_type": "code",
      "execution_count": 32,
      "metadata": {
        "id": "FG3ynP0NJVJ7"
      },
      "outputs": [],
      "source": [
        "# compile the model\n",
        "\n",
        "model.compile(loss='sparse_categorical_crossentropy',\n",
        "              optimizer=tf.keras.optimizers.Adam(1e-4),\n",
        "              metrics=['accuracy'])"
      ],
      "id": "FG3ynP0NJVJ7"
    },
    {
      "cell_type": "markdown",
      "metadata": {
        "id": "fEusDMMbJVKB"
      },
      "source": [
        "### 7. Training your model on your training data"
      ],
      "id": "fEusDMMbJVKB"
    },
    {
      "cell_type": "code",
      "execution_count": 33,
      "metadata": {
        "colab": {
          "base_uri": "https://localhost:8080/"
        },
        "id": "a0gBGDoYJVKB",
        "outputId": "124e12b9-3974-4106-e4b1-aa295576316d"
      },
      "outputs": [
        {
          "output_type": "stream",
          "name": "stdout",
          "text": [
            "Epoch 1/25\n",
            "166/166 [==============================] - 19s 92ms/step - loss: 1.0268 - accuracy: 0.4846 - val_loss: 0.9800 - val_accuracy: 0.5638\n",
            "Epoch 2/25\n",
            "166/166 [==============================] - 11s 66ms/step - loss: 0.9207 - accuracy: 0.6094 - val_loss: 0.8588 - val_accuracy: 0.6366\n",
            "Epoch 3/25\n",
            "166/166 [==============================] - 10s 59ms/step - loss: 0.7911 - accuracy: 0.6717 - val_loss: 0.7234 - val_accuracy: 0.7080\n",
            "Epoch 4/25\n",
            "166/166 [==============================] - 8s 51ms/step - loss: 0.6857 - accuracy: 0.7283 - val_loss: 0.6583 - val_accuracy: 0.7431\n",
            "Epoch 5/25\n",
            "166/166 [==============================] - 10s 58ms/step - loss: 0.6005 - accuracy: 0.7710 - val_loss: 0.5696 - val_accuracy: 0.7850\n",
            "Epoch 6/25\n",
            "166/166 [==============================] - 7s 44ms/step - loss: 0.5414 - accuracy: 0.7936 - val_loss: 0.5014 - val_accuracy: 0.8163\n",
            "Epoch 7/25\n",
            "166/166 [==============================] - 7s 41ms/step - loss: 0.4755 - accuracy: 0.8249 - val_loss: 0.4521 - val_accuracy: 0.8388\n",
            "Epoch 8/25\n",
            "166/166 [==============================] - 7s 44ms/step - loss: 0.4247 - accuracy: 0.8510 - val_loss: 0.4227 - val_accuracy: 0.8494\n",
            "Epoch 9/25\n",
            "166/166 [==============================] - 9s 55ms/step - loss: 0.3852 - accuracy: 0.8691 - val_loss: 0.3755 - val_accuracy: 0.8712\n",
            "Epoch 10/25\n",
            "166/166 [==============================] - 9s 55ms/step - loss: 0.3552 - accuracy: 0.8791 - val_loss: 0.3562 - val_accuracy: 0.8797\n",
            "Epoch 11/25\n",
            "166/166 [==============================] - 9s 51ms/step - loss: 0.3439 - accuracy: 0.8862 - val_loss: 0.3260 - val_accuracy: 0.8961\n",
            "Epoch 12/25\n",
            "166/166 [==============================] - 9s 52ms/step - loss: 0.3215 - accuracy: 0.8975 - val_loss: 0.3159 - val_accuracy: 0.8980\n",
            "Epoch 13/25\n",
            "166/166 [==============================] - 7s 39ms/step - loss: 0.3113 - accuracy: 0.8984 - val_loss: 0.3038 - val_accuracy: 0.9034\n",
            "Epoch 14/25\n",
            "166/166 [==============================] - 9s 52ms/step - loss: 0.3031 - accuracy: 0.9011 - val_loss: 0.2917 - val_accuracy: 0.9081\n",
            "Epoch 15/25\n",
            "166/166 [==============================] - 7s 41ms/step - loss: 0.2935 - accuracy: 0.9058 - val_loss: 0.2855 - val_accuracy: 0.9100\n",
            "Epoch 16/25\n",
            "166/166 [==============================] - 6s 39ms/step - loss: 0.2814 - accuracy: 0.9111 - val_loss: 0.2711 - val_accuracy: 0.9150\n",
            "Epoch 17/25\n",
            "166/166 [==============================] - 9s 54ms/step - loss: 0.2703 - accuracy: 0.9154 - val_loss: 0.2723 - val_accuracy: 0.9152\n",
            "Epoch 18/25\n",
            "166/166 [==============================] - 6s 39ms/step - loss: 0.2617 - accuracy: 0.9145 - val_loss: 0.2587 - val_accuracy: 0.9200\n",
            "Epoch 19/25\n",
            "166/166 [==============================] - 9s 55ms/step - loss: 0.2597 - accuracy: 0.9178 - val_loss: 0.2592 - val_accuracy: 0.9169\n",
            "Epoch 20/25\n",
            "166/166 [==============================] - 7s 41ms/step - loss: 0.2462 - accuracy: 0.9202 - val_loss: 0.2476 - val_accuracy: 0.9197\n",
            "Epoch 21/25\n",
            "166/166 [==============================] - 6s 38ms/step - loss: 0.2458 - accuracy: 0.9235 - val_loss: 0.2446 - val_accuracy: 0.9255\n",
            "Epoch 22/25\n",
            "166/166 [==============================] - 8s 46ms/step - loss: 0.2405 - accuracy: 0.9265 - val_loss: 0.2568 - val_accuracy: 0.9184\n",
            "Epoch 23/25\n",
            "166/166 [==============================] - 8s 51ms/step - loss: 0.2384 - accuracy: 0.9250 - val_loss: 0.2425 - val_accuracy: 0.9252\n",
            "Epoch 24/25\n",
            "166/166 [==============================] - 6s 37ms/step - loss: 0.2238 - accuracy: 0.9310 - val_loss: 0.2222 - val_accuracy: 0.9317\n",
            "Epoch 25/25\n",
            "166/166 [==============================] - 9s 57ms/step - loss: 0.2252 - accuracy: 0.9315 - val_loss: 0.2165 - val_accuracy: 0.9316\n"
          ]
        }
      ],
      "source": [
        "EPOCHS = 25\n",
        "\n",
        "results =model.fit(train_dataset,\n",
        "                  epochs=EPOCHS,\n",
        "                  validation_data=val_dataset)"
      ],
      "id": "a0gBGDoYJVKB"
    },
    {
      "cell_type": "code",
      "source": [
        "model.summary()"
      ],
      "metadata": {
        "colab": {
          "base_uri": "https://localhost:8080/"
        },
        "id": "siPj-xlsO1lD",
        "outputId": "e971fe30-8464-4ce9-d18e-a2c3d8762410"
      },
      "id": "siPj-xlsO1lD",
      "execution_count": 34,
      "outputs": [
        {
          "output_type": "stream",
          "name": "stdout",
          "text": [
            "Model: \"sequential\"\n",
            "_________________________________________________________________\n",
            " Layer (type)                Output Shape              Param #   \n",
            "=================================================================\n",
            " text_vectorization (TextVe  (None, None)              0         \n",
            " ctorization)                                                    \n",
            "                                                                 \n",
            " embedding (Embedding)       (None, None, 64)          64000     \n",
            "                                                                 \n",
            " simple_rnn (SimpleRNN)      (None, 64)                8256      \n",
            "                                                                 \n",
            " dense (Dense)               (None, 64)                4160      \n",
            "                                                                 \n",
            " dense_1 (Dense)             (None, 3)                 195       \n",
            "                                                                 \n",
            "=================================================================\n",
            "Total params: 76611 (299.26 KB)\n",
            "Trainable params: 76611 (299.26 KB)\n",
            "Non-trainable params: 0 (0.00 Byte)\n",
            "_________________________________________________________________\n"
          ]
        }
      ]
    },
    {
      "cell_type": "markdown",
      "metadata": {
        "id": "-N697lJHJVKC"
      },
      "source": [
        "### 8. Evaluating your model on your test data"
      ],
      "id": "-N697lJHJVKC"
    },
    {
      "cell_type": "code",
      "execution_count": 35,
      "metadata": {
        "colab": {
          "base_uri": "https://localhost:8080/"
        },
        "id": "tVEgfBiyJVKC",
        "outputId": "0e4782b2-e376-4b59-b0fa-62879f51c847"
      },
      "outputs": [
        {
          "output_type": "stream",
          "name": "stdout",
          "text": [
            "166/166 [==============================] - 1s 6ms/step - loss: 0.2032 - accuracy: 0.9401\n"
          ]
        }
      ],
      "source": [
        "test_loss, test_acc = model.evaluate(train_dataset)"
      ],
      "id": "tVEgfBiyJVKC"
    },
    {
      "cell_type": "code",
      "execution_count": 36,
      "metadata": {
        "colab": {
          "base_uri": "https://localhost:8080/"
        },
        "id": "lBb9Z-nHJVKC",
        "outputId": "d2650f27-777c-47a6-8853-e1c8a9b4b0e4"
      },
      "outputs": [
        {
          "output_type": "stream",
          "name": "stdout",
          "text": [
            "Test Loss: 0.20317043364048004\n",
            "Test Accuracy: 0.9401435256004333\n"
          ]
        }
      ],
      "source": [
        "print(\"Test Loss: {}\".format(test_loss))\n",
        "print(\"Test Accuracy: {}\".format(test_acc))"
      ],
      "id": "lBb9Z-nHJVKC"
    },
    {
      "cell_type": "code",
      "execution_count": 38,
      "metadata": {
        "colab": {
          "base_uri": "https://localhost:8080/",
          "height": 574
        },
        "id": "563mAWOWJVKD",
        "outputId": "77b95391-c113-4955-face-85e9d028979a"
      },
      "outputs": [
        {
          "output_type": "display_data",
          "data": {
            "text/plain": [
              "<Figure size 800x600 with 1 Axes>"
            ],
            "image/png": "[encoded data removed]"
          },
          "metadata": {}
        }
      ],
      "source": [
        "# plot the training and validation loss\n",
        "N = np.arange(0, EPOCHS)\n",
        "plt.style.use(\"ggplot\")\n",
        "plt.figure(figsize = [8,6])\n",
        "plt.plot(N, results.history[\"loss\"], label=\"train_loss\")\n",
        "plt.plot(N, results.history[\"val_loss\"], label=\"val_loss\")\n",
        "plt.title(\"RNN: Training & Validation Loss\")\n",
        "plt.xlabel(\"Epoch #\", weight=\"bold\")\n",
        "plt.ylabel(\"Loss\", weight=\"bold\")\n",
        "plt.legend()\n",
        "plt.show()"
      ],
      "id": "563mAWOWJVKD"
    },
    {
      "cell_type": "code",
      "execution_count": 39,
      "metadata": {
        "colab": {
          "base_uri": "https://localhost:8080/",
          "height": 574
        },
        "id": "shP7ZOMTJVKD",
        "outputId": "6e4b0bf4-4d04-4b32-bb5c-5bc163dc55a0"
      },
      "outputs": [
        {
          "output_type": "display_data",
          "data": {
            "text/plain": [
              "<Figure size 800x600 with 1 Axes>"
            ],
            "image/png": "[encoded data removed]"
          },
          "metadata": {}
        }
      ],
      "source": [
        "# plot the training and validation accuracy\n",
        "N = np.arange(0, EPOCHS)\n",
        "plt.style.use(\"ggplot\")\n",
        "plt.figure(figsize = [8,6])\n",
        "plt.plot(N, results.history[\"accuracy\"], label=\"train_acc\")\n",
        "plt.plot(N, results.history[\"val_accuracy\"], label=\"val_acc\")\n",
        "plt.title(\"RNN: Training and Validation Accuracy\")\n",
        "plt.xlabel(\"Epoch #\", weight=\"bold\")\n",
        "plt.ylabel(\"Accuracy\", weight=\"bold\")\n",
        "plt.legend()\n",
        "plt.show()"
      ],
      "id": "shP7ZOMTJVKD"
    },
    {
      "cell_type": "code",
      "execution_count": 40,
      "metadata": {
        "colab": {
          "base_uri": "https://localhost:8080/"
        },
        "id": "aGkuiIZNJVKD",
        "outputId": "ee93574f-2bb6-47e9-9dd7-4f30d810ecd7"
      },
      "outputs": [
        {
          "output_type": "stream",
          "name": "stdout",
          "text": [
            "1/1 [==============================] - 0s 326ms/step\n",
            "[[3.4189428e-04 9.9781138e-01 1.8467725e-03]]\n",
            "Positive\n"
          ]
        }
      ],
      "source": [
        "# predict on a sample text\n",
        "\n",
        "sample_text = (\"The movie was Good, I would recommend this movie.\")\n",
        "\n",
        "prediction = model.predict(np.array([sample_text]))\n",
        "print(prediction)\n",
        "\n",
        "# add final prediction to dataframe\n",
        "\n",
        "\n",
        "if np.argmax(prediction) == 0:\n",
        "    print(\"Neutral\")\n",
        "elif np.argmax(prediction) == 1:\n",
        "    print(\"Positive\")\n",
        "else:\n",
        "    print(\"Negative\")"
      ],
      "id": "aGkuiIZNJVKD"
    },
    {
      "cell_type": "markdown",
      "metadata": {
        "id": "NzVCUY2SJVKE"
      },
      "source": [
        "### 9. Saving the model"
      ],
      "id": "NzVCUY2SJVKE"
    },
    {
      "cell_type": "code",
      "execution_count": 44,
      "metadata": {
        "colab": {
          "base_uri": "https://localhost:8080/"
        },
        "id": "eZnXXHyWJVKE",
        "outputId": "3ce23ea1-31c8-41ee-b067-007360f39f80"
      },
      "outputs": [
        {
          "output_type": "stream",
          "name": "stdout",
          "text": [
            "[INFO] serializing network...\n"
          ]
        }
      ],
      "source": [
        "# save the model to disk\n",
        "print(\"[INFO] serializing network...\")\n",
        "model.save(\"/content/drive/MyDrive/Deep Learning Exam/RNN/sentiment_RNN.model\", save_format=\"tf\")"
      ],
      "id": "eZnXXHyWJVKE"
    },
    {
      "cell_type": "markdown",
      "metadata": {
        "id": "XRCu9aSpJVKE"
      },
      "source": [
        "### 10. Making predictions for unseen data"
      ],
      "id": "XRCu9aSpJVKE"
    },
    {
      "cell_type": "code",
      "execution_count": 45,
      "metadata": {
        "colab": {
          "base_uri": "https://localhost:8080/"
        },
        "id": "7yJqwIhcJVKE",
        "outputId": "e1c7b9ad-a684-4254-cbae-cee47b15ed31"
      },
      "outputs": [
        {
          "output_type": "execute_result",
          "data": {
            "text/plain": [
              "user_name             0\n",
              "user_location       601\n",
              "user_description    221\n",
              "user_created          0\n",
              "user_followers        0\n",
              "user_friends          0\n",
              "user_favourites       0\n",
              "user_verified         0\n",
              "date                  0\n",
              "hashtags            648\n",
              "source                0\n",
              "is_retweet            0\n",
              "clean_text            1\n",
              "dtype: int64"
            ]
          },
          "metadata": {},
          "execution_count": 45
        }
      ],
      "source": [
        "# check missing value\n",
        "df_test.isnull().sum()"
      ],
      "id": "7yJqwIhcJVKE"
    },
    {
      "cell_type": "code",
      "execution_count": 46,
      "metadata": {
        "id": "x7YLPIE5JVKF"
      },
      "outputs": [],
      "source": [
        "# Drop rows with any NaN in the clean text column only\n",
        "df_test = df_test.dropna(how='any', subset=['clean_text'])"
      ],
      "id": "x7YLPIE5JVKF"
    },
    {
      "cell_type": "code",
      "execution_count": 47,
      "metadata": {
        "colab": {
          "base_uri": "https://localhost:8080/"
        },
        "id": "HAYhypTfJVKF",
        "outputId": "af14cd65-41d4-4c57-9643-8dd60e6e434b"
      },
      "outputs": [
        {
          "output_type": "execute_result",
          "data": {
            "text/plain": [
              "user_name             0\n",
              "user_location       600\n",
              "user_description    221\n",
              "user_created          0\n",
              "user_followers        0\n",
              "user_friends          0\n",
              "user_favourites       0\n",
              "user_verified         0\n",
              "date                  0\n",
              "hashtags            647\n",
              "source                0\n",
              "is_retweet            0\n",
              "clean_text            0\n",
              "dtype: int64"
            ]
          },
          "metadata": {},
          "execution_count": 47
        }
      ],
      "source": [
        "# check missing value\n",
        "df_test.isnull().sum()"
      ],
      "id": "HAYhypTfJVKF"
    },
    {
      "cell_type": "code",
      "execution_count": 48,
      "metadata": {
        "colab": {
          "base_uri": "https://localhost:8080/"
        },
        "id": "BjyoJRxQJVKF",
        "outputId": "804749cf-4c9c-4d41-d02c-a4419304b0b8"
      },
      "outputs": [
        {
          "output_type": "stream",
          "name": "stdout",
          "text": [
            "96/96 [==============================] - 1s 6ms/step\n"
          ]
        }
      ],
      "source": [
        "# prediction on unseen data\n",
        "y_pred = model.predict(np.array(df_test[\"clean_text\"]))"
      ],
      "id": "BjyoJRxQJVKF"
    },
    {
      "cell_type": "code",
      "execution_count": 49,
      "metadata": {
        "colab": {
          "base_uri": "https://localhost:8080/"
        },
        "id": "XylSdwo_JVKG",
        "outputId": "325e3e83-534e-4a40-9977-c4cf7f33ede5"
      },
      "outputs": [
        {
          "output_type": "execute_result",
          "data": {
            "text/plain": [
              "array([[8.8959843e-01, 7.8279547e-02, 3.2122079e-02],\n",
              "       [3.8768008e-01, 7.6334611e-02, 5.3598535e-01],\n",
              "       [1.3139559e-04, 9.5881486e-01, 4.1053656e-02],\n",
              "       [9.8084944e-01, 1.3568684e-02, 5.5818777e-03],\n",
              "       [2.0838988e-03, 9.4404250e-01, 5.3873628e-02],\n",
              "       [3.9151093e-04, 9.9046797e-01, 9.1404775e-03],\n",
              "       [8.0698079e-01, 1.8341947e-01, 9.5997769e-03],\n",
              "       [9.3943334e-01, 5.0754528e-02, 9.8121688e-03],\n",
              "       [1.6466539e-02, 9.6461928e-01, 1.8914154e-02],\n",
              "       [1.3034957e-03, 9.4918430e-01, 4.9512219e-02]], dtype=float32)"
            ]
          },
          "metadata": {},
          "execution_count": 49
        }
      ],
      "source": [
        "y_pred[:10] # confidence for each class"
      ],
      "id": "XylSdwo_JVKG"
    },
    {
      "cell_type": "code",
      "execution_count": 50,
      "metadata": {
        "id": "YKAAjrP1JVKG"
      },
      "outputs": [],
      "source": [
        "# create new column for prediction\n",
        "df_test[\"Predicted_label\"] = np.argmax(y_pred, axis=1)"
      ],
      "id": "YKAAjrP1JVKG"
    },
    {
      "cell_type": "code",
      "execution_count": 51,
      "metadata": {
        "colab": {
          "base_uri": "https://localhost:8080/",
          "height": 399
        },
        "id": "DimOcddhJVKG",
        "outputId": "d2916f88-228f-4c56-86b1-ca619f2f2d15"
      },
      "outputs": [
        {
          "output_type": "execute_result",
          "data": {
            "text/plain": [
              "                   user_name          user_location  \\\n",
              "0                  Doug Webb        Probably Europe   \n",
              "1                Dan Reynish  Medicine Hat, Alberta   \n",
              "2                          🌤                    NaN   \n",
              "3  “IT IS WHAT IT IS.”🇰🇪🇳🇿🇺🇸                     WA   \n",
              "4                Mahima Sood                    NaN   \n",
              "\n",
              "                                    user_description         user_created  \\\n",
              "0  I develop methods for effective cooperation, w...  2015-12-12 15:22:58   \n",
              "1  News Anchor at Noon and 5 pm on CHAT TV. Canad...  2011-09-10 12:17:10   \n",
              "2                                                NaN  2011-06-01 02:23:57   \n",
              "3  Heliophile🌞☀️• #Rugby • Wildlifer • #HIV • #So...  2009-04-17 13:35:02   \n",
              "4  Amy Dunne X Holly Golightly || Data Scientist ...  2018-01-26 21:57:22   \n",
              "\n",
              "   user_followers  user_friends  user_favourites  user_verified  \\\n",
              "0             157           228              496          False   \n",
              "1            1722          2500            13912          False   \n",
              "2             880           585              205          False   \n",
              "3            1143          2692            11999          False   \n",
              "4              18            65              263          False   \n",
              "\n",
              "                  date                              hashtags  \\\n",
              "0  2020-09-15 22:53:36  ['theSocialDilemma', 'joinMastodon']   \n",
              "1  2020-09-12 04:43:03                        ['WeTheNorth']   \n",
              "2  2020-09-19 07:06:53                  ['TheSocialDilemma']   \n",
              "3  2020-09-12 18:28:18       ['TheSocialDilemma', 'Netflix']   \n",
              "4  2020-09-12 18:48:53                  ['TheSocialDilemma']   \n",
              "\n",
              "               source  is_retweet  \\\n",
              "0     Twitter Web App       False   \n",
              "1     Twitter Web App       False   \n",
              "2  Twitter for iPhone       False   \n",
              "3  Twitter for iPhone       False   \n",
              "4  Twitter for iPhone       False   \n",
              "\n",
              "                                          clean_text  Predicted_label  \n",
              "0           Watch theSocialDilemma then joinMastodon                0  \n",
              "1  With the 2019 2020 NBA season officially over ...                2  \n",
              "2  if you want to really know about people go tal...                1  \n",
              "3       Have you watched TheSocialDilemma on Netflix                0  \n",
              "4               Highly recommend TheSocialDilemma on                1  "
            ],
            "text/html": [
              "\n",
              "  <div id=\"df-b970a02b-de07-450e-8ec6-d9d94555e240\" class=\"colab-df-container\">\n",
              "    <div>\n",
              "<style scoped>\n",
              "    .dataframe tbody tr th:only-of-type {\n",
              "        vertical-align: middle;\n",
              "    }\n",
              "\n",
              "    .dataframe tbody tr th {\n",
              "        vertical-align: top;\n",
              "    }\n",
              "\n",
              "    .dataframe thead th {\n",
              "        text-align: right;\n",
              "    }\n",
              "</style>\n",
              "<table border=\"1\" class=\"dataframe\">\n",
              "  <thead>\n",
              "    <tr style=\"text-align: right;\">\n",
              "      <th></th>\n",
              "      <th>user_name</th>\n",
              "      <th>user_location</th>\n",
              "      <th>user_description</th>\n",
              "      <th>user_created</th>\n",
              "      <th>user_followers</th>\n",
              "      <th>user_friends</th>\n",
              "      <th>user_favourites</th>\n",
              "      <th>user_verified</th>\n",
              "      <th>date</th>\n",
              "      <th>hashtags</th>\n",
              "      <th>source</th>\n",
              "      <th>is_retweet</th>\n",
              "      <th>clean_text</th>\n",
              "      <th>Predicted_label</th>\n",
              "    </tr>\n",
              "  </thead>\n",
              "  <tbody>\n",
              "    <tr>\n",
              "      <th>0</th>\n",
              "      <td>Doug Webb</td>\n",
              "      <td>Probably Europe</td>\n",
              "      <td>I develop methods for effective cooperation, w...</td>\n",
              "      <td>2015-12-12 15:22:58</td>\n",
              "      <td>157</td>\n",
              "      <td>228</td>\n",
              "      <td>496</td>\n",
              "      <td>False</td>\n",
              "      <td>2020-09-15 22:53:36</td>\n",
              "      <td>['theSocialDilemma', 'joinMastodon']</td>\n",
              "      <td>Twitter Web App</td>\n",
              "      <td>False</td>\n",
              "      <td>Watch theSocialDilemma then joinMastodon</td>\n",
              "      <td>0</td>\n",
              "    </tr>\n",
              "    <tr>\n",
              "      <th>1</th>\n",
              "      <td>Dan Reynish</td>\n",
              "      <td>Medicine Hat, Alberta</td>\n",
              "      <td>News Anchor at Noon and 5 pm on CHAT TV. Canad...</td>\n",
              "      <td>2011-09-10 12:17:10</td>\n",
              "      <td>1722</td>\n",
              "      <td>2500</td>\n",
              "      <td>13912</td>\n",
              "      <td>False</td>\n",
              "      <td>2020-09-12 04:43:03</td>\n",
              "      <td>['WeTheNorth']</td>\n",
              "      <td>Twitter Web App</td>\n",
              "      <td>False</td>\n",
              "      <td>With the 2019 2020 NBA season officially over ...</td>\n",
              "      <td>2</td>\n",
              "    </tr>\n",
              "    <tr>\n",
              "      <th>2</th>\n",
              "      <td>🌤</td>\n",
              "      <td>NaN</td>\n",
              "      <td>NaN</td>\n",
              "      <td>2011-06-01 02:23:57</td>\n",
              "      <td>880</td>\n",
              "      <td>585</td>\n",
              "      <td>205</td>\n",
              "      <td>False</td>\n",
              "      <td>2020-09-19 07:06:53</td>\n",
              "      <td>['TheSocialDilemma']</td>\n",
              "      <td>Twitter for iPhone</td>\n",
              "      <td>False</td>\n",
              "      <td>if you want to really know about people go tal...</td>\n",
              "      <td>1</td>\n",
              "    </tr>\n",
              "    <tr>\n",
              "      <th>3</th>\n",
              "      <td>“IT IS WHAT IT IS.”🇰🇪🇳🇿🇺🇸</td>\n",
              "      <td>WA</td>\n",
              "      <td>Heliophile🌞☀️• #Rugby • Wildlifer • #HIV • #So...</td>\n",
              "      <td>2009-04-17 13:35:02</td>\n",
              "      <td>1143</td>\n",
              "      <td>2692</td>\n",
              "      <td>11999</td>\n",
              "      <td>False</td>\n",
              "      <td>2020-09-12 18:28:18</td>\n",
              "      <td>['TheSocialDilemma', 'Netflix']</td>\n",
              "      <td>Twitter for iPhone</td>\n",
              "      <td>False</td>\n",
              "      <td>Have you watched TheSocialDilemma on Netflix</td>\n",
              "      <td>0</td>\n",
              "    </tr>\n",
              "    <tr>\n",
              "      <th>4</th>\n",
              "      <td>Mahima Sood</td>\n",
              "      <td>NaN</td>\n",
              "      <td>Amy Dunne X Holly Golightly || Data Scientist ...</td>\n",
              "      <td>2018-01-26 21:57:22</td>\n",
              "      <td>18</td>\n",
              "      <td>65</td>\n",
              "      <td>263</td>\n",
              "      <td>False</td>\n",
              "      <td>2020-09-12 18:48:53</td>\n",
              "      <td>['TheSocialDilemma']</td>\n",
              "      <td>Twitter for iPhone</td>\n",
              "      <td>False</td>\n",
              "      <td>Highly recommend TheSocialDilemma on</td>\n",
              "      <td>1</td>\n",
              "    </tr>\n",
              "  </tbody>\n",
              "</table>\n",
              "</div>\n",
              "    <div class=\"colab-df-buttons\">\n",
              "\n",
              "  <div class=\"colab-df-container\">\n",
              "    <button class=\"colab-df-convert\" onclick=\"convertToInteractive('df-b970a02b-de07-450e-8ec6-d9d94555e240')\"\n",
              "            title=\"Convert this dataframe to an interactive table.\"\n",
              "            style=\"display:none;\">\n",
              "\n",
              "  <svg xmlns=\"http://www.w3.org/2000/svg\" height=\"24px\" viewBox=\"0 -960 960 960\">\n",
              "    <path d=\"M120-120v-720h720v720H120Zm60-500h600v-160H180v160Zm220 220h160v-160H400v160Zm0 220h160v-160H400v160ZM180-400h160v-160H180v160Zm440 0h160v-160H620v160ZM180-180h160v-160H180v160Zm440 0h160v-160H620v160Z\"/>\n",
              "  </svg>\n",
              "    </button>\n",
              "\n",
              "  <style>\n",
              "    .colab-df-container {\n",
              "      display:flex;\n",
              "      gap: 12px;\n",
              "    }\n",
              "\n",
              "    .colab-df-convert {\n",
              "      background-color: #E8F0FE;\n",
              "      border: none;\n",
              "      border-radius: 50%;\n",
              "      cursor: pointer;\n",
              "      display: none;\n",
              "      fill: #1967D2;\n",
              "      height: 32px;\n",
              "      padding: 0 0 0 0;\n",
              "      width: 32px;\n",
              "    }\n",
              "\n",
              "    .colab-df-convert:hover {\n",
              "      background-color: #E2EBFA;\n",
              "      box-shadow: 0px 1px 2px rgba(60, 64, 67, 0.3), 0px 1px 3px 1px rgba(60, 64, 67, 0.15);\n",
              "      fill: #174EA6;\n",
              "    }\n",
              "\n",
              "    .colab-df-buttons div {\n",
              "      margin-bottom: 4px;\n",
              "    }\n",
              "\n",
              "    [theme=dark] .colab-df-convert {\n",
              "      background-color: #3B4455;\n",
              "      fill: #D2E3FC;\n",
              "    }\n",
              "\n",
              "    [theme=dark] .colab-df-convert:hover {\n",
              "      background-color: #434B5C;\n",
              "      box-shadow: 0px 1px 3px 1px rgba(0, 0, 0, 0.15);\n",
              "      filter: drop-shadow(0px 1px 2px rgba(0, 0, 0, 0.3));\n",
              "      fill: #FFFFFF;\n",
              "    }\n",
              "  </style>\n",
              "\n",
              "    <script>\n",
              "      const buttonEl =\n",
              "        document.querySelector('#df-b970a02b-de07-450e-8ec6-d9d94555e240 button.colab-df-convert');\n",
              "      buttonEl.style.display =\n",
              "        google.colab.kernel.accessAllowed ? 'block' : 'none';\n",
              "\n",
              "      async function convertToInteractive(key) {\n",
              "        const element = document.querySelector('#df-b970a02b-de07-450e-8ec6-d9d94555e240');\n",
              "        const dataTable =\n",
              "          await google.colab.kernel.invokeFunction('convertToInteractive',\n",
              "                                                    [key], {});\n",
              "        if (!dataTable) return;\n",
              "\n",
              "        const docLinkHtml = 'Like what you see? Visit the ' +\n",
              "          '<a target=\"_blank\" href=https://colab.research.google.com/notebooks/data_table.ipynb>data table notebook</a>'\n",
              "          + ' to learn more about interactive tables.';\n",
              "        element.innerHTML = '';\n",
              "        dataTable['output_type'] = 'display_data';\n",
              "        await google.colab.output.renderOutput(dataTable, element);\n",
              "        const docLink = document.createElement('div');\n",
              "        docLink.innerHTML = docLinkHtml;\n",
              "        element.appendChild(docLink);\n",
              "      }\n",
              "    </script>\n",
              "  </div>\n",
              "\n",
              "\n",
              "<div id=\"df-9c49ace1-c5cc-459c-84dc-a14593136fbe\">\n",
              "  <button class=\"colab-df-quickchart\" onclick=\"quickchart('df-9c49ace1-c5cc-459c-84dc-a14593136fbe')\"\n",
              "            title=\"Suggest charts\"\n",
              "            style=\"display:none;\">\n",
              "\n",
              "<svg xmlns=\"http://www.w3.org/2000/svg\" height=\"24px\"viewBox=\"0 0 24 24\"\n",
              "     width=\"24px\">\n",
              "    <g>\n",
              "        <path d=\"M19 3H5c-1.1 0-2 .9-2 2v14c0 1.1.9 2 2 2h14c1.1 0 2-.9 2-2V5c0-1.1-.9-2-2-2zM9 17H7v-7h2v7zm4 0h-2V7h2v10zm4 0h-2v-4h2v4z\"/>\n",
              "    </g>\n",
              "</svg>\n",
              "  </button>\n",
              "\n",
              "<style>\n",
              "  .colab-df-quickchart {\n",
              "      --bg-color: #E8F0FE;\n",
              "      --fill-color: #1967D2;\n",
              "      --hover-bg-color: #E2EBFA;\n",
              "      --hover-fill-color: #174EA6;\n",
              "      --disabled-fill-color: #AAA;\n",
              "      --disabled-bg-color: #DDD;\n",
              "  }\n",
              "\n",
              "  [theme=dark] .colab-df-quickchart {\n",
              "      --bg-color: #3B4455;\n",
              "      --fill-color: #D2E3FC;\n",
              "      --hover-bg-color: #434B5C;\n",
              "      --hover-fill-color: #FFFFFF;\n",
              "      --disabled-bg-color: #3B4455;\n",
              "      --disabled-fill-color: #666;\n",
              "  }\n",
              "\n",
              "  .colab-df-quickchart {\n",
              "    background-color: var(--bg-color);\n",
              "    border: none;\n",
              "    border-radius: 50%;\n",
              "    cursor: pointer;\n",
              "    display: none;\n",
              "    fill: var(--fill-color);\n",
              "    height: 32px;\n",
              "    padding: 0;\n",
              "    width: 32px;\n",
              "  }\n",
              "\n",
              "  .colab-df-quickchart:hover {\n",
              "    background-color: var(--hover-bg-color);\n",
              "    box-shadow: 0 1px 2px rgba(60, 64, 67, 0.3), 0 1px 3px 1px rgba(60, 64, 67, 0.15);\n",
              "    fill: var(--button-hover-fill-color);\n",
              "  }\n",
              "\n",
              "  .colab-df-quickchart-complete:disabled,\n",
              "  .colab-df-quickchart-complete:disabled:hover {\n",
              "    background-color: var(--disabled-bg-color);\n",
              "    fill: var(--disabled-fill-color);\n",
              "    box-shadow: none;\n",
              "  }\n",
              "\n",
              "  .colab-df-spinner {\n",
              "    border: 2px solid var(--fill-color);\n",
              "    border-color: transparent;\n",
              "    border-bottom-color: var(--fill-color);\n",
              "    animation:\n",
              "      spin 1s steps(1) infinite;\n",
              "  }\n",
              "\n",
              "  @keyframes spin {\n",
              "    0% {\n",
              "      border-color: transparent;\n",
              "      border-bottom-color: var(--fill-color);\n",
              "      border-left-color: var(--fill-color);\n",
              "    }\n",
              "    20% {\n",
              "      border-color: transparent;\n",
              "      border-left-color: var(--fill-color);\n",
              "      border-top-color: var(--fill-color);\n",
              "    }\n",
              "    30% {\n",
              "      border-color: transparent;\n",
              "      border-left-color: var(--fill-color);\n",
              "      border-top-color: var(--fill-color);\n",
              "      border-right-color: var(--fill-color);\n",
              "    }\n",
              "    40% {\n",
              "      border-color: transparent;\n",
              "      border-right-color: var(--fill-color);\n",
              "      border-top-color: var(--fill-color);\n",
              "    }\n",
              "    60% {\n",
              "      border-color: transparent;\n",
              "      border-right-color: var(--fill-color);\n",
              "    }\n",
              "    80% {\n",
              "      border-color: transparent;\n",
              "      border-right-color: var(--fill-color);\n",
              "      border-bottom-color: var(--fill-color);\n",
              "    }\n",
              "    90% {\n",
              "      border-color: transparent;\n",
              "      border-bottom-color: var(--fill-color);\n",
              "    }\n",
              "  }\n",
              "</style>\n",
              "\n",
              "  <script>\n",
              "    async function quickchart(key) {\n",
              "      const quickchartButtonEl =\n",
              "        document.querySelector('#' + key + ' button');\n",
              "      quickchartButtonEl.disabled = true;  // To prevent multiple clicks.\n",
              "      quickchartButtonEl.classList.add('colab-df-spinner');\n",
              "      try {\n",
              "        const charts = await google.colab.kernel.invokeFunction(\n",
              "            'suggestCharts', [key], {});\n",
              "      } catch (error) {\n",
              "        console.error('Error during call to suggestCharts:', error);\n",
              "      }\n",
              "      quickchartButtonEl.classList.remove('colab-df-spinner');\n",
              "      quickchartButtonEl.classList.add('colab-df-quickchart-complete');\n",
              "    }\n",
              "    (() => {\n",
              "      let quickchartButtonEl =\n",
              "        document.querySelector('#df-9c49ace1-c5cc-459c-84dc-a14593136fbe button');\n",
              "      quickchartButtonEl.style.display =\n",
              "        google.colab.kernel.accessAllowed ? 'block' : 'none';\n",
              "    })();\n",
              "  </script>\n",
              "</div>\n",
              "\n",
              "    </div>\n",
              "  </div>\n"
            ]
          },
          "metadata": {},
          "execution_count": 51
        }
      ],
      "source": [
        "df_test.head()"
      ],
      "id": "DimOcddhJVKG"
    },
    {
      "cell_type": "code",
      "execution_count": 52,
      "metadata": {
        "colab": {
          "base_uri": "https://localhost:8080/"
        },
        "id": "XsCFO3wrJVKH",
        "outputId": "2ca49982-c171-4dc2-e65e-3d926cc077c7"
      },
      "outputs": [
        {
          "output_type": "execute_result",
          "data": {
            "text/plain": [
              "1    1492\n",
              "0    1096\n",
              "2     479\n",
              "Name: Predicted_label, dtype: int64"
            ]
          },
          "metadata": {},
          "execution_count": 52
        }
      ],
      "source": [
        "df_test[\"Predicted_label\"].value_counts()"
      ],
      "id": "XsCFO3wrJVKH"
    },
    {
      "cell_type": "code",
      "execution_count": 53,
      "metadata": {
        "id": "XI6R2CQEJVKH"
      },
      "outputs": [],
      "source": [
        "def label(a):\n",
        "    if a==0:\n",
        "        return \"Neutral\"\n",
        "    elif a==1:\n",
        "        return \"Positive\"\n",
        "    else:\n",
        "        return \"Negative\""
      ],
      "id": "XI6R2CQEJVKH"
    },
    {
      "cell_type": "code",
      "execution_count": 54,
      "metadata": {
        "id": "LazajxF3JVKH"
      },
      "outputs": [],
      "source": [
        "df_test[\"Predicted_label\"] = df_test[\"Predicted_label\"].apply(lambda a : label(a))"
      ],
      "id": "LazajxF3JVKH"
    },
    {
      "cell_type": "code",
      "execution_count": 55,
      "metadata": {
        "colab": {
          "base_uri": "https://localhost:8080/",
          "height": 399
        },
        "id": "eWV6o-NyJVKH",
        "outputId": "e3026d3b-3094-46d9-87e7-2cd16e724cf1"
      },
      "outputs": [
        {
          "output_type": "execute_result",
          "data": {
            "text/plain": [
              "                   user_name          user_location  \\\n",
              "0                  Doug Webb        Probably Europe   \n",
              "1                Dan Reynish  Medicine Hat, Alberta   \n",
              "2                          🌤                    NaN   \n",
              "3  “IT IS WHAT IT IS.”🇰🇪🇳🇿🇺🇸                     WA   \n",
              "4                Mahima Sood                    NaN   \n",
              "\n",
              "                                    user_description         user_created  \\\n",
              "0  I develop methods for effective cooperation, w...  2015-12-12 15:22:58   \n",
              "1  News Anchor at Noon and 5 pm on CHAT TV. Canad...  2011-09-10 12:17:10   \n",
              "2                                                NaN  2011-06-01 02:23:57   \n",
              "3  Heliophile🌞☀️• #Rugby • Wildlifer • #HIV • #So...  2009-04-17 13:35:02   \n",
              "4  Amy Dunne X Holly Golightly || Data Scientist ...  2018-01-26 21:57:22   \n",
              "\n",
              "   user_followers  user_friends  user_favourites  user_verified  \\\n",
              "0             157           228              496          False   \n",
              "1            1722          2500            13912          False   \n",
              "2             880           585              205          False   \n",
              "3            1143          2692            11999          False   \n",
              "4              18            65              263          False   \n",
              "\n",
              "                  date                              hashtags  \\\n",
              "0  2020-09-15 22:53:36  ['theSocialDilemma', 'joinMastodon']   \n",
              "1  2020-09-12 04:43:03                        ['WeTheNorth']   \n",
              "2  2020-09-19 07:06:53                  ['TheSocialDilemma']   \n",
              "3  2020-09-12 18:28:18       ['TheSocialDilemma', 'Netflix']   \n",
              "4  2020-09-12 18:48:53                  ['TheSocialDilemma']   \n",
              "\n",
              "               source  is_retweet  \\\n",
              "0     Twitter Web App       False   \n",
              "1     Twitter Web App       False   \n",
              "2  Twitter for iPhone       False   \n",
              "3  Twitter for iPhone       False   \n",
              "4  Twitter for iPhone       False   \n",
              "\n",
              "                                          clean_text Predicted_label  \n",
              "0           Watch theSocialDilemma then joinMastodon         Neutral  \n",
              "1  With the 2019 2020 NBA season officially over ...        Negative  \n",
              "2  if you want to really know about people go tal...        Positive  \n",
              "3       Have you watched TheSocialDilemma on Netflix         Neutral  \n",
              "4               Highly recommend TheSocialDilemma on        Positive  "
            ],
            "text/html": [
              "\n",
              "  <div id=\"df-59f0e05f-84f5-417a-92e3-f52f36930513\" class=\"colab-df-container\">\n",
              "    <div>\n",
              "<style scoped>\n",
              "    .dataframe tbody tr th:only-of-type {\n",
              "        vertical-align: middle;\n",
              "    }\n",
              "\n",
              "    .dataframe tbody tr th {\n",
              "        vertical-align: top;\n",
              "    }\n",
              "\n",
              "    .dataframe thead th {\n",
              "        text-align: right;\n",
              "    }\n",
              "</style>\n",
              "<table border=\"1\" class=\"dataframe\">\n",
              "  <thead>\n",
              "    <tr style=\"text-align: right;\">\n",
              "      <th></th>\n",
              "      <th>user_name</th>\n",
              "      <th>user_location</th>\n",
              "      <th>user_description</th>\n",
              "      <th>user_created</th>\n",
              "      <th>user_followers</th>\n",
              "      <th>user_friends</th>\n",
              "      <th>user_favourites</th>\n",
              "      <th>user_verified</th>\n",
              "      <th>date</th>\n",
              "      <th>hashtags</th>\n",
              "      <th>source</th>\n",
              "      <th>is_retweet</th>\n",
              "      <th>clean_text</th>\n",
              "      <th>Predicted_label</th>\n",
              "    </tr>\n",
              "  </thead>\n",
              "  <tbody>\n",
              "    <tr>\n",
              "      <th>0</th>\n",
              "      <td>Doug Webb</td>\n",
              "      <td>Probably Europe</td>\n",
              "      <td>I develop methods for effective cooperation, w...</td>\n",
              "      <td>2015-12-12 15:22:58</td>\n",
              "      <td>157</td>\n",
              "      <td>228</td>\n",
              "      <td>496</td>\n",
              "      <td>False</td>\n",
              "      <td>2020-09-15 22:53:36</td>\n",
              "      <td>['theSocialDilemma', 'joinMastodon']</td>\n",
              "      <td>Twitter Web App</td>\n",
              "      <td>False</td>\n",
              "      <td>Watch theSocialDilemma then joinMastodon</td>\n",
              "      <td>Neutral</td>\n",
              "    </tr>\n",
              "    <tr>\n",
              "      <th>1</th>\n",
              "      <td>Dan Reynish</td>\n",
              "      <td>Medicine Hat, Alberta</td>\n",
              "      <td>News Anchor at Noon and 5 pm on CHAT TV. Canad...</td>\n",
              "      <td>2011-09-10 12:17:10</td>\n",
              "      <td>1722</td>\n",
              "      <td>2500</td>\n",
              "      <td>13912</td>\n",
              "      <td>False</td>\n",
              "      <td>2020-09-12 04:43:03</td>\n",
              "      <td>['WeTheNorth']</td>\n",
              "      <td>Twitter Web App</td>\n",
              "      <td>False</td>\n",
              "      <td>With the 2019 2020 NBA season officially over ...</td>\n",
              "      <td>Negative</td>\n",
              "    </tr>\n",
              "    <tr>\n",
              "      <th>2</th>\n",
              "      <td>🌤</td>\n",
              "      <td>NaN</td>\n",
              "      <td>NaN</td>\n",
              "      <td>2011-06-01 02:23:57</td>\n",
              "      <td>880</td>\n",
              "      <td>585</td>\n",
              "      <td>205</td>\n",
              "      <td>False</td>\n",
              "      <td>2020-09-19 07:06:53</td>\n",
              "      <td>['TheSocialDilemma']</td>\n",
              "      <td>Twitter for iPhone</td>\n",
              "      <td>False</td>\n",
              "      <td>if you want to really know about people go tal...</td>\n",
              "      <td>Positive</td>\n",
              "    </tr>\n",
              "    <tr>\n",
              "      <th>3</th>\n",
              "      <td>“IT IS WHAT IT IS.”🇰🇪🇳🇿🇺🇸</td>\n",
              "      <td>WA</td>\n",
              "      <td>Heliophile🌞☀️• #Rugby • Wildlifer • #HIV • #So...</td>\n",
              "      <td>2009-04-17 13:35:02</td>\n",
              "      <td>1143</td>\n",
              "      <td>2692</td>\n",
              "      <td>11999</td>\n",
              "      <td>False</td>\n",
              "      <td>2020-09-12 18:28:18</td>\n",
              "      <td>['TheSocialDilemma', 'Netflix']</td>\n",
              "      <td>Twitter for iPhone</td>\n",
              "      <td>False</td>\n",
              "      <td>Have you watched TheSocialDilemma on Netflix</td>\n",
              "      <td>Neutral</td>\n",
              "    </tr>\n",
              "    <tr>\n",
              "      <th>4</th>\n",
              "      <td>Mahima Sood</td>\n",
              "      <td>NaN</td>\n",
              "      <td>Amy Dunne X Holly Golightly || Data Scientist ...</td>\n",
              "      <td>2018-01-26 21:57:22</td>\n",
              "      <td>18</td>\n",
              "      <td>65</td>\n",
              "      <td>263</td>\n",
              "      <td>False</td>\n",
              "      <td>2020-09-12 18:48:53</td>\n",
              "      <td>['TheSocialDilemma']</td>\n",
              "      <td>Twitter for iPhone</td>\n",
              "      <td>False</td>\n",
              "      <td>Highly recommend TheSocialDilemma on</td>\n",
              "      <td>Positive</td>\n",
              "    </tr>\n",
              "  </tbody>\n",
              "</table>\n",
              "</div>\n",
              "    <div class=\"colab-df-buttons\">\n",
              "\n",
              "  <div class=\"colab-df-container\">\n",
              "    <button class=\"colab-df-convert\" onclick=\"convertToInteractive('df-59f0e05f-84f5-417a-92e3-f52f36930513')\"\n",
              "            title=\"Convert this dataframe to an interactive table.\"\n",
              "            style=\"display:none;\">\n",
              "\n",
              "  <svg xmlns=\"http://www.w3.org/2000/svg\" height=\"24px\" viewBox=\"0 -960 960 960\">\n",
              "    <path d=\"M120-120v-720h720v720H120Zm60-500h600v-160H180v160Zm220 220h160v-160H400v160Zm0 220h160v-160H400v160ZM180-400h160v-160H180v160Zm440 0h160v-160H620v160ZM180-180h160v-160H180v160Zm440 0h160v-160H620v160Z\"/>\n",
              "  </svg>\n",
              "    </button>\n",
              "\n",
              "  <style>\n",
              "    .colab-df-container {\n",
              "      display:flex;\n",
              "      gap: 12px;\n",
              "    }\n",
              "\n",
              "    .colab-df-convert {\n",
              "      background-color: #E8F0FE;\n",
              "      border: none;\n",
              "      border-radius: 50%;\n",
              "      cursor: pointer;\n",
              "      display: none;\n",
              "      fill: #1967D2;\n",
              "      height: 32px;\n",
              "      padding: 0 0 0 0;\n",
              "      width: 32px;\n",
              "    }\n",
              "\n",
              "    .colab-df-convert:hover {\n",
              "      background-color: #E2EBFA;\n",
              "      box-shadow: 0px 1px 2px rgba(60, 64, 67, 0.3), 0px 1px 3px 1px rgba(60, 64, 67, 0.15);\n",
              "      fill: #174EA6;\n",
              "    }\n",
              "\n",
              "    .colab-df-buttons div {\n",
              "      margin-bottom: 4px;\n",
              "    }\n",
              "\n",
              "    [theme=dark] .colab-df-convert {\n",
              "      background-color: #3B4455;\n",
              "      fill: #D2E3FC;\n",
              "    }\n",
              "\n",
              "    [theme=dark] .colab-df-convert:hover {\n",
              "      background-color: #434B5C;\n",
              "      box-shadow: 0px 1px 3px 1px rgba(0, 0, 0, 0.15);\n",
              "      filter: drop-shadow(0px 1px 2px rgba(0, 0, 0, 0.3));\n",
              "      fill: #FFFFFF;\n",
              "    }\n",
              "  </style>\n",
              "\n",
              "    <script>\n",
              "      const buttonEl =\n",
              "        document.querySelector('#df-59f0e05f-84f5-417a-92e3-f52f36930513 button.colab-df-convert');\n",
              "      buttonEl.style.display =\n",
              "        google.colab.kernel.accessAllowed ? 'block' : 'none';\n",
              "\n",
              "      async function convertToInteractive(key) {\n",
              "        const element = document.querySelector('#df-59f0e05f-84f5-417a-92e3-f52f36930513');\n",
              "        const dataTable =\n",
              "          await google.colab.kernel.invokeFunction('convertToInteractive',\n",
              "                                                    [key], {});\n",
              "        if (!dataTable) return;\n",
              "\n",
              "        const docLinkHtml = 'Like what you see? Visit the ' +\n",
              "          '<a target=\"_blank\" href=https://colab.research.google.com/notebooks/data_table.ipynb>data table notebook</a>'\n",
              "          + ' to learn more about interactive tables.';\n",
              "        element.innerHTML = '';\n",
              "        dataTable['output_type'] = 'display_data';\n",
              "        await google.colab.output.renderOutput(dataTable, element);\n",
              "        const docLink = document.createElement('div');\n",
              "        docLink.innerHTML = docLinkHtml;\n",
              "        element.appendChild(docLink);\n",
              "      }\n",
              "    </script>\n",
              "  </div>\n",
              "\n",
              "\n",
              "<div id=\"df-26eab96c-1fc3-491b-85f9-f92e6abc05b6\">\n",
              "  <button class=\"colab-df-quickchart\" onclick=\"quickchart('df-26eab96c-1fc3-491b-85f9-f92e6abc05b6')\"\n",
              "            title=\"Suggest charts\"\n",
              "            style=\"display:none;\">\n",
              "\n",
              "<svg xmlns=\"http://www.w3.org/2000/svg\" height=\"24px\"viewBox=\"0 0 24 24\"\n",
              "     width=\"24px\">\n",
              "    <g>\n",
              "        <path d=\"M19 3H5c-1.1 0-2 .9-2 2v14c0 1.1.9 2 2 2h14c1.1 0 2-.9 2-2V5c0-1.1-.9-2-2-2zM9 17H7v-7h2v7zm4 0h-2V7h2v10zm4 0h-2v-4h2v4z\"/>\n",
              "    </g>\n",
              "</svg>\n",
              "  </button>\n",
              "\n",
              "<style>\n",
              "  .colab-df-quickchart {\n",
              "      --bg-color: #E8F0FE;\n",
              "      --fill-color: #1967D2;\n",
              "      --hover-bg-color: #E2EBFA;\n",
              "      --hover-fill-color: #174EA6;\n",
              "      --disabled-fill-color: #AAA;\n",
              "      --disabled-bg-color: #DDD;\n",
              "  }\n",
              "\n",
              "  [theme=dark] .colab-df-quickchart {\n",
              "      --bg-color: #3B4455;\n",
              "      --fill-color: #D2E3FC;\n",
              "      --hover-bg-color: #434B5C;\n",
              "      --hover-fill-color: #FFFFFF;\n",
              "      --disabled-bg-color: #3B4455;\n",
              "      --disabled-fill-color: #666;\n",
              "  }\n",
              "\n",
              "  .colab-df-quickchart {\n",
              "    background-color: var(--bg-color);\n",
              "    border: none;\n",
              "    border-radius: 50%;\n",
              "    cursor: pointer;\n",
              "    display: none;\n",
              "    fill: var(--fill-color);\n",
              "    height: 32px;\n",
              "    padding: 0;\n",
              "    width: 32px;\n",
              "  }\n",
              "\n",
              "  .colab-df-quickchart:hover {\n",
              "    background-color: var(--hover-bg-color);\n",
              "    box-shadow: 0 1px 2px rgba(60, 64, 67, 0.3), 0 1px 3px 1px rgba(60, 64, 67, 0.15);\n",
              "    fill: var(--button-hover-fill-color);\n",
              "  }\n",
              "\n",
              "  .colab-df-quickchart-complete:disabled,\n",
              "  .colab-df-quickchart-complete:disabled:hover {\n",
              "    background-color: var(--disabled-bg-color);\n",
              "    fill: var(--disabled-fill-color);\n",
              "    box-shadow: none;\n",
              "  }\n",
              "\n",
              "  .colab-df-spinner {\n",
              "    border: 2px solid var(--fill-color);\n",
              "    border-color: transparent;\n",
              "    border-bottom-color: var(--fill-color);\n",
              "    animation:\n",
              "      spin 1s steps(1) infinite;\n",
              "  }\n",
              "\n",
              "  @keyframes spin {\n",
              "    0% {\n",
              "      border-color: transparent;\n",
              "      border-bottom-color: var(--fill-color);\n",
              "      border-left-color: var(--fill-color);\n",
              "    }\n",
              "    20% {\n",
              "      border-color: transparent;\n",
              "      border-left-color: var(--fill-color);\n",
              "      border-top-color: var(--fill-color);\n",
              "    }\n",
              "    30% {\n",
              "      border-color: transparent;\n",
              "      border-left-color: var(--fill-color);\n",
              "      border-top-color: var(--fill-color);\n",
              "      border-right-color: var(--fill-color);\n",
              "    }\n",
              "    40% {\n",
              "      border-color: transparent;\n",
              "      border-right-color: var(--fill-color);\n",
              "      border-top-color: var(--fill-color);\n",
              "    }\n",
              "    60% {\n",
              "      border-color: transparent;\n",
              "      border-right-color: var(--fill-color);\n",
              "    }\n",
              "    80% {\n",
              "      border-color: transparent;\n",
              "      border-right-color: var(--fill-color);\n",
              "      border-bottom-color: var(--fill-color);\n",
              "    }\n",
              "    90% {\n",
              "      border-color: transparent;\n",
              "      border-bottom-color: var(--fill-color);\n",
              "    }\n",
              "  }\n",
              "</style>\n",
              "\n",
              "  <script>\n",
              "    async function quickchart(key) {\n",
              "      const quickchartButtonEl =\n",
              "        document.querySelector('#' + key + ' button');\n",
              "      quickchartButtonEl.disabled = true;  // To prevent multiple clicks.\n",
              "      quickchartButtonEl.classList.add('colab-df-spinner');\n",
              "      try {\n",
              "        const charts = await google.colab.kernel.invokeFunction(\n",
              "            'suggestCharts', [key], {});\n",
              "      } catch (error) {\n",
              "        console.error('Error during call to suggestCharts:', error);\n",
              "      }\n",
              "      quickchartButtonEl.classList.remove('colab-df-spinner');\n",
              "      quickchartButtonEl.classList.add('colab-df-quickchart-complete');\n",
              "    }\n",
              "    (() => {\n",
              "      let quickchartButtonEl =\n",
              "        document.querySelector('#df-26eab96c-1fc3-491b-85f9-f92e6abc05b6 button');\n",
              "      quickchartButtonEl.style.display =\n",
              "        google.colab.kernel.accessAllowed ? 'block' : 'none';\n",
              "    })();\n",
              "  </script>\n",
              "</div>\n",
              "\n",
              "    </div>\n",
              "  </div>\n"
            ]
          },
          "metadata": {},
          "execution_count": 55
        }
      ],
      "source": [
        "df_test.head()"
      ],
      "id": "eWV6o-NyJVKH"
    },
    {
      "cell_type": "code",
      "execution_count": 56,
      "metadata": {
        "id": "vNQtFnm3JVKI"
      },
      "outputs": [],
      "source": [
        "#df_test.to_csv(\"Test Predictioin.csv\", index=False)"
      ],
      "id": "vNQtFnm3JVKI"
    },
    {
      "cell_type": "code",
      "execution_count": null,
      "metadata": {
        "id": "UbteVvIEJVKI"
      },
      "outputs": [],
      "source": [],
      "id": "UbteVvIEJVKI"
    }
  ],
  "metadata": {
    "kernelspec": {
      "display_name": "Python 3",
      "name": "python3"
    },
    "language_info": {
      "codemirror_mode": {
        "name": "ipython",
        "version": 3
      },
      "file_extension": ".py",
      "mimetype": "text/x-python",
      "name": "python",
      "nbconvert_exporter": "python",
      "pygments_lexer": "ipython3",
      "version": "3.8.3"
    },
    "colab": {
      "provenance": [],
      "gpuType": "T4"
    },
    "accelerator": "GPU"
  },
  "nbformat": 4,
  "nbformat_minor": 5
}